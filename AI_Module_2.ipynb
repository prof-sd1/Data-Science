{
  "nbformat": 4,
  "nbformat_minor": 0,
  "metadata": {
    "colab": {
      "provenance": [],
      "authorship_tag": "ABX9TyPF6dp6TjglE8JCybiFQkEG",
      "include_colab_link": true
    },
    "kernelspec": {
      "name": "python3",
      "display_name": "Python 3"
    },
    "language_info": {
      "name": "python"
    }
  },
  "cells": [
    {
      "cell_type": "markdown",
      "metadata": {
        "id": "view-in-github",
        "colab_type": "text"
      },
      "source": [
        "<a href=\"https://colab.research.google.com/github/prof-sd1/Data-Science/blob/AI/AI_Module_2.ipynb\" target=\"_parent\"><img src=\"https://colab.research.google.com/assets/colab-badge.svg\" alt=\"Open In Colab\"/></a>"
      ]
    },
    {
      "cell_type": "markdown",
      "source": [
        "# **Module 2: Python for AI**\n"
      ],
      "metadata": {
        "id": "pjiWU_iqO-6f"
      }
    },
    {
      "cell_type": "markdown",
      "source": [
        "### Python Syntax, Variables, and Data Types"
      ],
      "metadata": {
        "id": "qYEaG-cgPiUy"
      }
    },
    {
      "cell_type": "markdown",
      "source": [
        "#  Introduction to Python\n",
        ">Python is a powerful, easy-to-read, and beginner-friendly programming language that plays a critical role in the field of Artificial Intelligence (AI). It is extensively used in:\n",
        "\n",
        "- Machine Learning\n",
        "\n",
        "- Data Science\n",
        "\n",
        "- Web Development\n",
        "\n",
        "- Deep Learning\n",
        "\n",
        "- Automation and APIs\n",
        "\n",
        "Its simple syntax and vast ecosystem make Python the preferred language for AI development.\n",
        "##  What is Python Syntax?\n",
        "\n",
        "**Syntax** is the set of rules that define how Python code must be written.\n",
        "\n",
        "Think of it like grammar in a language — Python has its own way of writing sentences (code).\n",
        "\n",
        "### Key Rules:\n",
        "- Python uses **indentation** (spaces) to group code blocks.\n",
        "- Each instruction is written on a new line.\n",
        "- Comments start with `#` for single line comment and (`'''` or `\"\"\"`) for multiple lines comment, and are ignored by Python.\n"
      ],
      "metadata": {
        "id": "IUaaocD3PxDy"
      }
    },
    {
      "cell_type": "code",
      "source": [
        "# This is a single-line comment\n",
        "print(\"Hello, AI World!\")  # This prints text\n",
        "\n",
        "'''\n",
        "This is a multi-line comment\n",
        "used for documentation\n",
        "'''\n",
        "\n",
        "def greet():\n",
        "    print(\"Welcome to Alpha AI Course!\")\n",
        "greet()\n"
      ],
      "metadata": {
        "colab": {
          "base_uri": "https://localhost:8080/"
        },
        "id": "0vyqJhWwPxv4",
        "outputId": "ad88b5e6-b82a-4d67-b79d-97bbbc068302"
      },
      "execution_count": 2,
      "outputs": [
        {
          "output_type": "stream",
          "name": "stdout",
          "text": [
            "Hello, AI World!\n",
            "Welcome to Alpha AI Course!\n"
          ]
        }
      ]
    },
    {
      "cell_type": "markdown",
      "source": [
        "##  What is a Variable?\n",
        "\n",
        "A **variable** is like a labeled box that stores information.  \n",
        "You can give it a name and assign a value to it.\n",
        "\n",
        "### Example:\n",
        "```python\n",
        "name = \"Alpha AI\"\n"
      ],
      "metadata": {
        "id": "9_IZ-BHGRlZf"
      }
    },
    {
      "cell_type": "code",
      "source": [
        "\n",
        "# Variable examples\n",
        "name = \"Alpha AI, \"\n",
        "age = 25\n",
        "height = 1.75\n",
        "is_student = True\n",
        "\n",
        "print(name, age, height, is_student)\n"
      ],
      "metadata": {
        "colab": {
          "base_uri": "https://localhost:8080/"
        },
        "id": "vdfBY8XvRl_G",
        "outputId": "7e496ae2-28a0-4d50-872d-ab525c50cbc2"
      },
      "execution_count": 5,
      "outputs": [
        {
          "output_type": "stream",
          "name": "stdout",
          "text": [
            "Alpha AI,  25 1.75 True\n"
          ]
        }
      ]
    },
    {
      "cell_type": "code",
      "source": [],
      "metadata": {
        "id": "SqaQRoh5S6ho"
      },
      "execution_count": null,
      "outputs": []
    },
    {
      "cell_type": "markdown",
      "metadata": {
        "id": "580df0d5"
      },
      "source": [
        "## What are Data Types?\n",
        "\n",
        "**Data types** classify the kind of values that variables can hold. This is important because different data types have different properties and behaviors. Python automatically infers the data type based on the value assigned to a variable.\n",
        "\n",
        "Here are some common data types in Python:\n",
        "\n",
        "- **Integers (`int`)**: Whole numbers (positive, negative, or zero) without a decimal point.\n",
        "- **Floating-point numbers (`float`)**: Numbers with a decimal point.\n",
        "- **Strings (`str`)**: Sequences of characters (text) enclosed in single or double quotes.\n",
        "- **Booleans (`bool`)**: Represents one of two values: `True` or `False`.\n",
        "- **None (`NoneType`)**: Represents the absence of a value."
      ]
    },
    {
      "cell_type": "code",
      "metadata": {
        "colab": {
          "base_uri": "https://localhost:8080/"
        },
        "id": "e1ea2a89",
        "outputId": "9d630c4f-d3b5-4ccd-8908-6c92ded3a892"
      },
      "source": [
        "# Data type examples\n",
        "\n",
        "# Integer\n",
        "integer_variable = 10\n",
        "print(f\"Integer: {integer_variable}, Type: {type(integer_variable)}\")\n",
        "\n",
        "# Float\n",
        "float_variable = 3.14\n",
        "print(f\"Float: {float_variable}, Type: {type(float_variable)}\")\n",
        "\n",
        "# String\n",
        "string_variable = \"Hello\"\n",
        "print(f\"String: {string_variable}, Type: {type(string_variable)}\")\n",
        "\n",
        "# Boolean\n",
        "boolean_variable = False\n",
        "print(f\"Boolean: {boolean_variable}, Type: {type(boolean_variable)}\")\n",
        "\n",
        "# None\n",
        "none_variable = None\n",
        "print(f\"None: {none_variable}, Type: {type(none_variable)}\")"
      ],
      "execution_count": 6,
      "outputs": [
        {
          "output_type": "stream",
          "name": "stdout",
          "text": [
            "Integer: 10, Type: <class 'int'>\n",
            "Float: 3.14, Type: <class 'float'>\n",
            "String: Hello, Type: <class 'str'>\n",
            "Boolean: False, Type: <class 'bool'>\n",
            "None: None, Type: <class 'NoneType'>\n"
          ]
        }
      ]
    },
    {
      "cell_type": "markdown",
      "metadata": {
        "id": "775cd466"
      },
      "source": []
    },
    {
      "cell_type": "markdown",
      "metadata": {
        "id": "a7f0e2ae"
      },
      "source": [
        "## What is Type Conversion?\n",
        "\n",
        "**Type conversion** (or **type casting**) is the process of converting a variable from one data type to another. This is a common operation in programming, especially when you need to perform operations that require values of a specific data type.\n",
        "\n",
        "There are two main types of type conversion in Python:\n",
        "\n",
        "1.  **Implicit Type Conversion (Coercion)**: Python automatically converts one data type to another without any user intervention. This usually happens in expressions involving different data types, where Python promotes the \"smaller\" data type to the \"larger\" data type to avoid data loss.\n",
        "\n",
        "2.  **Explicit Type Conversion (Casting)**: The user manually converts a data type to another using built-in functions. This is done when implicit conversion is not possible or when you need to force a specific type conversion."
      ]
    },
    {
      "cell_type": "markdown",
      "metadata": {
        "id": "b3d4189d"
      },
      "source": [
        "### Implicit Type Conversion Examples"
      ]
    },
    {
      "cell_type": "code",
      "metadata": {
        "colab": {
          "base_uri": "https://localhost:8080/"
        },
        "id": "2e012b4b",
        "outputId": "88664f04-37a3-4d9c-dc18-0f5d705d9764"
      },
      "source": [
        "# Implicit Type Conversion\n",
        "\n",
        "integer_num = 10\n",
        "float_num = 5.5\n",
        "\n",
        "# Python implicitly converts integer_num to a float before addition\n",
        "result = integer_num + float_num\n",
        "print(f\"Result of implicit conversion: {result}, Type: {type(result)}\")"
      ],
      "execution_count": 7,
      "outputs": [
        {
          "output_type": "stream",
          "name": "stdout",
          "text": [
            "Result of implicit conversion: 15.5, Type: <class 'float'>\n"
          ]
        }
      ]
    },
    {
      "cell_type": "markdown",
      "metadata": {
        "id": "d61d38e9"
      },
      "source": [
        "### Explicit Type Conversion Examples"
      ]
    },
    {
      "cell_type": "code",
      "metadata": {
        "colab": {
          "base_uri": "https://localhost:8080/"
        },
        "id": "eb3b2636",
        "outputId": "3438dc68-824e-4f12-9e86-df281d2702d2"
      },
      "source": [
        "# Explicit Type Conversion\n",
        "\n",
        "string_num = \"100\"\n",
        "integer_num = 20\n",
        "\n",
        "# Convert string_num to an integer\n",
        "explicit_int = int(string_num)\n",
        "result = explicit_int + integer_num\n",
        "print(f\"Result of explicit conversion (string to int): {result}, Type: {type(result)}\")\n",
        "\n",
        "float_num = 10.75\n",
        "# Convert float_num to an integer (truncates the decimal part)\n",
        "explicit_int_from_float = int(float_num)\n",
        "print(f\"Result of explicit conversion (float to int): {explicit_int_from_float}, Type: {type(explicit_int_from_float)}\")\n",
        "\n",
        "integer_num_2 = 50\n",
        "# Convert integer_num_2 to a float\n",
        "explicit_float_from_int = float(integer_num_2)\n",
        "print(f\"Result of explicit conversion (int to float): {explicit_float_from_int}, Type: {type(explicit_float_from_int)}\")\n",
        "\n",
        "# Convert integer to string\n",
        "explicit_str_from_int = str(integer_num_2)\n",
        "print(f\"Result of explicit conversion (int to string): {explicit_str_from_int}, Type: {type(explicit_str_from_int)}\")\n",
        "\n",
        "# Convert boolean to integer\n",
        "boolean_true = True\n",
        "explicit_int_from_bool = int(boolean_true)\n",
        "print(f\"Result of explicit conversion (True to int): {explicit_int_from_bool}, Type: {type(explicit_int_from_bool)}\")\n",
        "\n",
        "boolean_false = False\n",
        "explicit_int_from_bool_false = int(boolean_false)\n",
        "print(f\"Result of explicit conversion (False to int): {explicit_int_from_bool_false}, Type: {type(explicit_int_from_bool_false)}\")\n",
        "\n",
        "# Convert integer to boolean (non-zero is True, zero is False)\n",
        "explicit_bool_from_int = bool(1)\n",
        "print(f\"Result of explicit conversion (1 to bool): {explicit_bool_from_int}, Type: {type(explicit_bool_from_int)}\")\n",
        "\n",
        "explicit_bool_from_zero = bool(0)\n",
        "print(f\"Result of explicit conversion (0 to bool): {explicit_bool_from_zero}, Type: {type(explicit_bool_from_zero)}\")"
      ],
      "execution_count": 8,
      "outputs": [
        {
          "output_type": "stream",
          "name": "stdout",
          "text": [
            "Result of explicit conversion (string to int): 120, Type: <class 'int'>\n",
            "Result of explicit conversion (float to int): 10, Type: <class 'int'>\n",
            "Result of explicit conversion (int to float): 50.0, Type: <class 'float'>\n",
            "Result of explicit conversion (int to string): 50, Type: <class 'str'>\n",
            "Result of explicit conversion (True to int): 1, Type: <class 'int'>\n",
            "Result of explicit conversion (False to int): 0, Type: <class 'int'>\n",
            "Result of explicit conversion (1 to bool): True, Type: <class 'bool'>\n",
            "Result of explicit conversion (0 to bool): False, Type: <class 'bool'>\n"
          ]
        }
      ]
    },
    {
      "cell_type": "markdown",
      "source": [],
      "metadata": {
        "id": "MXZ9y8J3UsVh"
      }
    },
    {
      "cell_type": "markdown",
      "metadata": {
        "id": "b0509df4"
      },
      "source": [
        "## What are Python Operators?\n",
        "\n",
        "**Operators** are special symbols that perform operations on values and variables. These can range from simple arithmetic like addition and subtraction to more complex operations like comparing values or checking for membership in a sequence.\n",
        "\n",
        "Python categorizes operators into several types:\n",
        "\n",
        "-   **Arithmetic Operators**: Used for mathematical operations like addition, subtraction, multiplication, division, etc.\n",
        "-   **Comparison (Relational) Operators**: Used to compare two values and return a boolean result (`True` or `False`).\n",
        "-   **Logical Operators**: Used to combine conditional statements (`and`, `or`, `not`).\n",
        "-   **Assignment Operators**: Used to assign values to variables.\n",
        "-   **Identity Operators**: Used to compare the memory locations of two objects (`is`, `is not`).\n",
        "-   **Membership Operators**: Used to test if a sequence is presented in an object (`in`, `not in`).\n",
        "-   **Bitwise Operators**: Used to perform operations on individual bits of numbers."
      ]
    },
    {
      "cell_type": "markdown",
      "metadata": {
        "id": "c61ef049"
      },
      "source": [
        "### Arithmetic Operators"
      ]
    },
    {
      "cell_type": "code",
      "metadata": {
        "colab": {
          "base_uri": "https://localhost:8080/"
        },
        "id": "07e32e52",
        "outputId": "004c985c-8a0e-4649-d240-941a8443c179"
      },
      "source": [
        "# Arithmetic Operators\n",
        "a = 10\n",
        "b = 5\n",
        "\n",
        "print(f\"a + b = {a + b}\")   # Addition\n",
        "print(f\"a - b = {a - b}\")   # Subtraction\n",
        "print(f\"a * b = {a * b}\")   # Multiplication\n",
        "print(f\"a / b = {a / b}\")   # Division\n",
        "print(f\"a % b = {a % b}\")   # Modulus (remainder)\n",
        "print(f\"a ** b = {a ** b}\") # Exponentiation\n",
        "print(f\"a // b = {a // b}\") # Floor Division (integer division)"
      ],
      "execution_count": 9,
      "outputs": [
        {
          "output_type": "stream",
          "name": "stdout",
          "text": [
            "a + b = 15\n",
            "a - b = 5\n",
            "a * b = 50\n",
            "a / b = 2.0\n",
            "a % b = 0\n",
            "a ** b = 100000\n",
            "a // b = 2\n"
          ]
        }
      ]
    },
    {
      "cell_type": "markdown",
      "metadata": {
        "id": "659591ac"
      },
      "source": [
        "### Comparison (Relational) Operators"
      ]
    },
    {
      "cell_type": "code",
      "metadata": {
        "colab": {
          "base_uri": "https://localhost:8080/"
        },
        "id": "275c206a",
        "outputId": "a69af393-0169-42bd-a7dc-3088f36f1b2d"
      },
      "source": [
        "# Comparison Operators\n",
        "x = 10\n",
        "y = 12\n",
        "\n",
        "print(f\"x > y is {x > y}\")     # Greater than\n",
        "print(f\"x < y is {x < y}\")     # Less than\n",
        "print(f\"x == y is {x == y}\")   # Equal to\n",
        "print(f\"x != y is {x != y}\")   # Not equal to\n",
        "print(f\"x >= y is {x >= y}\")   # Greater than or equal to\n",
        "print(f\"x <= y is {x <= y}\")   # Less than or equal to"
      ],
      "execution_count": 10,
      "outputs": [
        {
          "output_type": "stream",
          "name": "stdout",
          "text": [
            "x > y is False\n",
            "x < y is True\n",
            "x == y is False\n",
            "x != y is True\n",
            "x >= y is False\n",
            "x <= y is True\n"
          ]
        }
      ]
    },
    {
      "cell_type": "markdown",
      "metadata": {
        "id": "7dd3ffe7"
      },
      "source": [
        "### Logical Operators"
      ]
    },
    {
      "cell_type": "code",
      "metadata": {
        "colab": {
          "base_uri": "https://localhost:8080/"
        },
        "id": "5c2878c7",
        "outputId": "1876f964-e09b-4a63-87e2-d93ad383a51e"
      },
      "source": [
        "# Logical Operators\n",
        "p = True\n",
        "q = False\n",
        "\n",
        "print(f\"p and q is {p and q}\") # Logical AND\n",
        "print(f\"p or q is {p or q}\")   # Logical OR\n",
        "print(f\"not p is {not p}\")     # Logical NOT"
      ],
      "execution_count": 11,
      "outputs": [
        {
          "output_type": "stream",
          "name": "stdout",
          "text": [
            "p and q is False\n",
            "p or q is True\n",
            "not p is False\n"
          ]
        }
      ]
    },
    {
      "cell_type": "markdown",
      "metadata": {
        "id": "1c04410c"
      },
      "source": [
        "### Assignment Operators"
      ]
    },
    {
      "cell_type": "code",
      "metadata": {
        "colab": {
          "base_uri": "https://localhost:8080/"
        },
        "id": "eac8cacb",
        "outputId": "c8d401a6-56b9-44b9-ac14-25ca3a1fc3b2"
      },
      "source": [
        "# Assignment Operators\n",
        "c = 10\n",
        "c += 5  # c = c + 5\n",
        "print(f\"c += 5  -> c = {c}\")\n",
        "\n",
        "d = 20\n",
        "d -= 5  # d = d - 5\n",
        "print(f\"d -= 5  -> d = {d}\")\n",
        "\n",
        "e = 5\n",
        "e *= 3  # e = e * 3\n",
        "print(f\"e *= 3  -> e = {e}\")\n",
        "\n",
        "f = 15\n",
        "f /= 3  # f = f / 3\n",
        "print(f\"f /= 3  -> f = {f}\")\n",
        "\n",
        "g = 10\n",
        "g %= 3  # g = g % 3\n",
        "print(f\"g %= 3  -> g = {g}\")\n",
        "\n",
        "h = 2\n",
        "h **= 3 # h = h ** 3\n",
        "print(f\"h **= 3 -> h = {h}\")\n",
        "\n",
        "i = 10\n",
        "i //= 3 # i = i // 3\n",
        "print(f\"i //= 3 -> i = {i}\")"
      ],
      "execution_count": 12,
      "outputs": [
        {
          "output_type": "stream",
          "name": "stdout",
          "text": [
            "c += 5  -> c = 15\n",
            "d -= 5  -> d = 15\n",
            "e *= 3  -> e = 15\n",
            "f /= 3  -> f = 5.0\n",
            "g %= 3  -> g = 1\n",
            "h **= 3 -> h = 8\n",
            "i //= 3 -> i = 3\n"
          ]
        }
      ]
    },
    {
      "cell_type": "markdown",
      "metadata": {
        "id": "a20722e7"
      },
      "source": [
        "### Identity Operators"
      ]
    },
    {
      "cell_type": "code",
      "metadata": {
        "colab": {
          "base_uri": "https://localhost:8080/"
        },
        "id": "3309bdd2",
        "outputId": "6a904219-2b87-4220-972a-072696809370"
      },
      "source": [
        "# Identity Operators\n",
        "list1 = [1, 2, 3]\n",
        "list2 = [1, 2, 3]\n",
        "list3 = list1\n",
        "\n",
        "print(f\"list1 is list2: {list1 is list2}\")     # False, because they are different objects in memory\n",
        "print(f\"list1 is list3: {list1 is list3}\")     # True, because list3 refers to the same object as list1\n",
        "print(f\"list1 is not list2: {list1 is not list2}\") # True"
      ],
      "execution_count": 13,
      "outputs": [
        {
          "output_type": "stream",
          "name": "stdout",
          "text": [
            "list1 is list2: False\n",
            "list1 is list3: True\n",
            "list1 is not list2: True\n"
          ]
        }
      ]
    },
    {
      "cell_type": "markdown",
      "metadata": {
        "id": "dc9a79a6"
      },
      "source": [
        "### Membership Operators"
      ]
    },
    {
      "cell_type": "code",
      "metadata": {
        "colab": {
          "base_uri": "https://localhost:8080/"
        },
        "id": "21553092",
        "outputId": "3a0ef88c-5c86-45b8-b9ae-5a6853095baf"
      },
      "source": [
        "# Membership Operators\n",
        "my_list = [10, 20, 30, 40]\n",
        "\n",
        "print(f\"20 in my_list: {20 in my_list}\")       # True\n",
        "print(f\"50 in my_list: {50 in my_list}\")       # False\n",
        "print(f\"25 not in my_list: {25 not in my_list}\")   # True"
      ],
      "execution_count": 14,
      "outputs": [
        {
          "output_type": "stream",
          "name": "stdout",
          "text": [
            "20 in my_list: True\n",
            "50 in my_list: False\n",
            "25 not in my_list: True\n"
          ]
        }
      ]
    },
    {
      "cell_type": "markdown",
      "metadata": {
        "id": "5fa9f043"
      },
      "source": [
        "### Bitwise Operators"
      ]
    },
    {
      "cell_type": "code",
      "metadata": {
        "colab": {
          "base_uri": "https://localhost:8080/"
        },
        "id": "449c459b",
        "outputId": "f63963a6-7857-45f2-e846-ad6d046cb172"
      },
      "source": [
        "# Bitwise Operators\n",
        "num1 = 10  # Binary: 1010\n",
        "num2 = 4   # Binary: 0100\n",
        "\n",
        "print(f\"num1 & num2 = {num1 & num2}\") # Bitwise AND (0000 = 0)\n",
        "print(f\"num1 | num2 = {num1 | num2}\") # Bitwise OR  (1110 = 14)\n",
        "print(f\"num1 ^ num2 = {num1 ^ num2}\") # Bitwise XOR (1110 = 14)\n",
        "print(f\"~num1 = {~num1}\")             # Bitwise NOT (inverts bits)\n",
        "print(f\"num1 << 2 = {num1 << 2}\")     # Left Shift (shifts bits to the left)\n",
        "print(f\"num1 >> 2 = {num1 >> 2}\")     # Right Shift (shifts bits to the right)"
      ],
      "execution_count": 15,
      "outputs": [
        {
          "output_type": "stream",
          "name": "stdout",
          "text": [
            "num1 & num2 = 0\n",
            "num1 | num2 = 14\n",
            "num1 ^ num2 = 14\n",
            "~num1 = -11\n",
            "num1 << 2 = 40\n",
            "num1 >> 2 = 2\n"
          ]
        }
      ]
    },
    {
      "cell_type": "markdown",
      "metadata": {
        "id": "59e9f48d"
      },
      "source": [
        "## What is Control Flow?\n",
        "\n",
        "**Control flow** refers to the order in which the program's instructions are executed. By using control flow structures, you can dictate the path your program takes based on conditions, repeat actions, and create more dynamic and intelligent applications.\n",
        "\n",
        "The primary ways to control the flow of execution in Python are:\n",
        "\n",
        "-   **Conditional Statements**: Using `if`, `elif`, and `else` to execute code blocks based on whether conditions are true or false.\n",
        "-   **Loops**: Using `for` and `while` to repeat a block of code multiple times.\n",
        "-   **Function Calls**: Jumping to a function's code and returning to the original location after the function completes. (We'll cover functions later)."
      ]
    },
    {
      "cell_type": "markdown",
      "metadata": {
        "id": "2d8db0a3"
      },
      "source": [
        "### Conditional Statements (if, elif, else)\n",
        "\n",
        "Conditional statements allow your program to make decisions. They check if a condition is true, and if so, execute a specific block of code.\n",
        "\n",
        "-   The `if` statement is used to test a condition.\n",
        "-   The `elif` (else if) statement is used to check additional conditions if the preceding `if` or `elif` conditions are false.\n",
        "-   The `else` statement is an optional catch-all that executes if none of the preceding `if` or `elif` conditions are true."
      ]
    },
    {
      "cell_type": "code",
      "metadata": {
        "colab": {
          "base_uri": "https://localhost:8080/"
        },
        "id": "9e363414",
        "outputId": "68bb343c-94be-4383-dced-66d3fb27e911"
      },
      "source": [
        "# Conditional Statement Examples\n",
        "\n",
        "temperature = 25\n",
        "\n",
        "if temperature > 30:\n",
        "    print(\"It's a hot day!\")\n",
        "elif temperature > 20:\n",
        "    print(\"It's a pleasant day.\")\n",
        "else:\n",
        "    print(\"It's a bit cool.\")\n",
        "\n",
        "# Another example\n",
        "score = 85\n",
        "\n",
        "if score >= 90:\n",
        "    print(\"Grade: A\")\n",
        "elif score >= 80:\n",
        "    print(\"Grade: B\")\n",
        "elif score >= 70:\n",
        "    print(\"Grade: C\")\n",
        "else:\n",
        "    print(\"Grade: D\")"
      ],
      "execution_count": 16,
      "outputs": [
        {
          "output_type": "stream",
          "name": "stdout",
          "text": [
            "It's a pleasant day.\n",
            "Grade: B\n"
          ]
        }
      ]
    },
    {
      "cell_type": "markdown",
      "metadata": {
        "id": "553bf9ed"
      },
      "source": [
        "### Loops (for, while)\n",
        "\n",
        "Loops are used to repeat a block of code multiple times. This is incredibly useful for iterating over sequences (like lists or strings) or for repeating an action until a certain condition is met.\n",
        "\n",
        "#### `for` loop\n",
        "\n",
        "The `for` loop is typically used for iterating over a sequence (like a list, tuple, string, or range) or other iterable objects."
      ]
    },
    {
      "cell_type": "code",
      "metadata": {
        "colab": {
          "base_uri": "https://localhost:8080/"
        },
        "id": "0d4588be",
        "outputId": "39b5a32a-8fae-4ec8-9f43-3f5250636056"
      },
      "source": [
        "# For loop examples\n",
        "\n",
        "# Iterating over a list\n",
        "fruits = [\"apple\", \"banana\", \"cherry\"]\n",
        "for fruit in fruits:\n",
        "    print(fruit)\n",
        "\n",
        "# Iterating over a string\n",
        "for char in \"Python\":\n",
        "    print(char)\n",
        "\n",
        "# Iterating using range()\n",
        "for i in range(5): # This will loop 5 times, with i taking values from 0 to 4\n",
        "    print(f\"Loop iteration: {i}\")\n",
        "\n",
        "for i in range(2, 6): # This will loop from 2 to 5\n",
        "    print(f\"Loop iteration: {i}\")\n",
        "\n",
        "for i in range(1, 10, 2): # This will loop from 1 to 9 with a step of 2\n",
        "    print(f\"Loop iteration with step: {i}\")"
      ],
      "execution_count": 17,
      "outputs": [
        {
          "output_type": "stream",
          "name": "stdout",
          "text": [
            "apple\n",
            "banana\n",
            "cherry\n",
            "P\n",
            "y\n",
            "t\n",
            "h\n",
            "o\n",
            "n\n",
            "Loop iteration: 0\n",
            "Loop iteration: 1\n",
            "Loop iteration: 2\n",
            "Loop iteration: 3\n",
            "Loop iteration: 4\n",
            "Loop iteration: 2\n",
            "Loop iteration: 3\n",
            "Loop iteration: 4\n",
            "Loop iteration: 5\n",
            "Loop iteration with step: 1\n",
            "Loop iteration with step: 3\n",
            "Loop iteration with step: 5\n",
            "Loop iteration with step: 7\n",
            "Loop iteration with step: 9\n"
          ]
        }
      ]
    },
    {
      "cell_type": "markdown",
      "metadata": {
        "id": "57dda770"
      },
      "source": [
        "#### `while` loop\n",
        "\n",
        "The `while` loop executes a block of code as long as a given condition is true. You need to be careful with `while` loops to avoid infinite loops by ensuring the condition will eventually become false."
      ]
    },
    {
      "cell_type": "code",
      "metadata": {
        "colab": {
          "base_uri": "https://localhost:8080/"
        },
        "id": "dfc04c5b",
        "outputId": "3250b0d8-5b2e-4aa6-f34f-164f26b6e1f6"
      },
      "source": [
        "# While loop example\n",
        "\n",
        "count = 0\n",
        "while count < 5:\n",
        "    print(f\"Count: {count}\")\n",
        "    count += 1 # Increment the counter to eventually make the condition false\n",
        "\n",
        "# Example with a break statement\n",
        "num = 0\n",
        "while True:\n",
        "    print(f\"Number: {num}\")\n",
        "    num += 1\n",
        "    if num > 3:\n",
        "        break # Exit the loop when num is greater than 3\n",
        "\n",
        "# Example with a continue statement\n",
        "i = 0\n",
        "while i < 5:\n",
        "    i += 1\n",
        "    if i == 3:\n",
        "        continue # Skip the rest of the code in this iteration\n",
        "    print(f\"Current value of i: {i}\")"
      ],
      "execution_count": 18,
      "outputs": [
        {
          "output_type": "stream",
          "name": "stdout",
          "text": [
            "Count: 0\n",
            "Count: 1\n",
            "Count: 2\n",
            "Count: 3\n",
            "Count: 4\n",
            "Number: 0\n",
            "Number: 1\n",
            "Number: 2\n",
            "Number: 3\n",
            "Current value of i: 1\n",
            "Current value of i: 2\n",
            "Current value of i: 4\n",
            "Current value of i: 5\n"
          ]
        }
      ]
    },
    {
      "cell_type": "markdown",
      "metadata": {
        "id": "0982aba4"
      },
      "source": [
        "## Data Structures in Python\n",
        "\n",
        "Data structures are fundamental in programming for organizing and managing data effectively. Python provides several built-in data structures, each with its own characteristics and use cases. Understanding these structures is crucial for writing efficient and readable code, especially in data-intensive fields like AI.\n",
        "\n",
        "The main built-in data structures in Python are:\n",
        "\n",
        "-   **Lists**: Ordered, mutable collections of items.\n",
        "-   **Tuples**: Ordered, immutable collections of items.\n",
        "-   **Dictionaries**: Unordered collections of key-value pairs.\n",
        "-   **Sets**: Unordered collections of unique items."
      ]
    },
    {
      "cell_type": "markdown",
      "metadata": {
        "id": "432aca7f"
      },
      "source": [
        "### Lists\n",
        "\n",
        "Lists are one of the most versatile data structures in Python. They are ordered collections, meaning the items have a defined order, and that order will not change. Lists are also mutable, which means you can change their elements after they are created. Lists are defined by enclosing elements in square brackets `[]`, with elements separated by commas."
      ]
    },
    {
      "cell_type": "code",
      "metadata": {
        "colab": {
          "base_uri": "https://localhost:8080/"
        },
        "id": "87014ca7",
        "outputId": "05015796-8da9-42f5-b8e6-754dec485cc5"
      },
      "source": [
        "# List examples\n",
        "\n",
        "# Creating a list\n",
        "my_list = [1, 2, 3, \"apple\", \"banana\"]\n",
        "print(f\"My list: {my_list}\")\n",
        "\n",
        "# Accessing elements (using index)\n",
        "print(f\"First element: {my_list[0]}\")\n",
        "print(f\"Last element: {my_list[-1]}\")\n",
        "\n",
        "# Slicing a list\n",
        "print(f\"Slice of the list: {my_list[1:4]}\")\n",
        "\n",
        "# Modifying elements\n",
        "my_list[0] = 10\n",
        "print(f\"Modified list: {my_list}\")\n",
        "\n",
        "# Adding elements\n",
        "my_list.append(\"cherry\") # Add to the end\n",
        "print(f\"List after append: {my_list}\")\n",
        "my_list.insert(1, \"grape\") # Insert at a specific index\n",
        "print(f\"List after insert: {my_list}\")\n",
        "\n",
        "# Removing elements\n",
        "my_list.remove(\"banana\") # Remove by value\n",
        "print(f\"List after remove: {my_list}\")\n",
        "popped_element = my_list.pop() # Remove and return the last element\n",
        "print(f\"List after pop: {my_list}, Popped element: {popped_element}\")\n",
        "\n",
        "# List length\n",
        "print(f\"Length of the list: {len(my_list)}\")\n",
        "\n",
        "# Checking if an element is in the list\n",
        "print(f\"'apple' in my_list: {'apple' in my_list}\")"
      ],
      "execution_count": 19,
      "outputs": [
        {
          "output_type": "stream",
          "name": "stdout",
          "text": [
            "My list: [1, 2, 3, 'apple', 'banana']\n",
            "First element: 1\n",
            "Last element: banana\n",
            "Slice of the list: [2, 3, 'apple']\n",
            "Modified list: [10, 2, 3, 'apple', 'banana']\n",
            "List after append: [10, 2, 3, 'apple', 'banana', 'cherry']\n",
            "List after insert: [10, 'grape', 2, 3, 'apple', 'banana', 'cherry']\n",
            "List after remove: [10, 'grape', 2, 3, 'apple', 'cherry']\n",
            "List after pop: [10, 'grape', 2, 3, 'apple'], Popped element: cherry\n",
            "Length of the list: 5\n",
            "'apple' in my_list: True\n"
          ]
        }
      ]
    },
    {
      "cell_type": "markdown",
      "metadata": {
        "id": "939bc737"
      },
      "source": [
        "### Tuples\n",
        "\n",
        "Tuples are similar to lists in that they are ordered collections of items. However, the key difference is that tuples are immutable, meaning once a tuple is created, you cannot change its elements. Tuples are defined by enclosing elements in parentheses `()`, with elements separated by commas. Tuples are often used for data that should not be changed, like coordinates or database records."
      ]
    },
    {
      "cell_type": "code",
      "metadata": {
        "colab": {
          "base_uri": "https://localhost:8080/"
        },
        "id": "88335029",
        "outputId": "246a3301-4797-457e-d5a5-b70c38282df2"
      },
      "source": [
        "# Tuple examples\n",
        "\n",
        "# Creating a tuple\n",
        "my_tuple = (1, 2, 3, \"apple\", \"banana\")\n",
        "print(f\"My tuple: {my_tuple}\")\n",
        "\n",
        "# Accessing elements (using index)\n",
        "print(f\"First element: {my_tuple[0]}\")\n",
        "print(f\"Last element: {my_tuple[-1]}\")\n",
        "\n",
        "# Slicing a tuple\n",
        "print(f\"Slice of the tuple: {my_tuple[1:4]}\")\n",
        "\n",
        "# Attempting to modify a tuple (this will raise a TypeError)\n",
        "# my_tuple[0] = 10 # Uncommenting this line will cause an error\n",
        "\n",
        "# Tuple length\n",
        "print(f\"Length of the tuple: {len(my_tuple)}\")\n",
        "\n",
        "# Checking if an element is in the tuple\n",
        "print(f\"'apple' in my_tuple: {'apple' in my_tuple}\")"
      ],
      "execution_count": 20,
      "outputs": [
        {
          "output_type": "stream",
          "name": "stdout",
          "text": [
            "My tuple: (1, 2, 3, 'apple', 'banana')\n",
            "First element: 1\n",
            "Last element: banana\n",
            "Slice of the tuple: (2, 3, 'apple')\n",
            "Length of the tuple: 5\n",
            "'apple' in my_tuple: True\n"
          ]
        }
      ]
    },
    {
      "cell_type": "markdown",
      "metadata": {
        "id": "5121b542"
      },
      "source": [
        "### Dictionaries\n",
        "\n",
        "Dictionaries are unordered collections of key-value pairs. Each key in a dictionary must be unique, and it is used to access its corresponding value. Dictionaries are mutable, allowing you to add, remove, or modify key-value pairs. Dictionaries are defined by enclosing key-value pairs in curly braces `{}`, with key-value pairs separated by commas, and the key and value separated by a colon `:`."
      ]
    },
    {
      "cell_type": "code",
      "metadata": {
        "colab": {
          "base_uri": "https://localhost:8080/"
        },
        "id": "33cb19cd",
        "outputId": "32319482-641d-4ce8-f2f8-b9726c6c594a"
      },
      "source": [
        "# Dictionary examples\n",
        "\n",
        "# Creating a dictionary\n",
        "my_dict = {\"name\": \"Alpha AI\", \"type\": \"Course\", \"version\": 1.0}\n",
        "print(f\"My dictionary: {my_dict}\")\n",
        "\n",
        "# Accessing values (using keys)\n",
        "print(f\"Name: {my_dict['name']}\")\n",
        "print(f\"Version: {my_dict['version']}\")\n",
        "\n",
        "# Adding or modifying elements\n",
        "my_dict[\"language\"] = \"Python\" # Add a new key-value pair\n",
        "print(f\"Dictionary after adding element: {my_dict}\")\n",
        "my_dict[\"version\"] = 2.0 # Modify an existing value\n",
        "print(f\"Dictionary after modifying element: {my_dict}\")\n",
        "\n",
        "# Removing elements\n",
        "removed_value = my_dict.pop(\"type\") # Remove by key and return the value\n",
        "print(f\"Dictionary after removing element: {my_dict}, Removed value: {removed_value}\")\n",
        "# del my_dict[\"version\"] # Another way to remove by key\n",
        "\n",
        "# Checking if a key is in the dictionary\n",
        "print(f\"'name' in my_dict: {'name' in my_dict}\")\n",
        "print(f\"'course' in my_dict: {'course' in my_dict}\")\n",
        "\n",
        "# Getting all keys or values\n",
        "print(f\"Keys: {my_dict.keys()}\")\n",
        "print(f\"Values: {my_dict.values()}\")"
      ],
      "execution_count": 21,
      "outputs": [
        {
          "output_type": "stream",
          "name": "stdout",
          "text": [
            "My dictionary: {'name': 'Alpha AI', 'type': 'Course', 'version': 1.0}\n",
            "Name: Alpha AI\n",
            "Version: 1.0\n",
            "Dictionary after adding element: {'name': 'Alpha AI', 'type': 'Course', 'version': 1.0, 'language': 'Python'}\n",
            "Dictionary after modifying element: {'name': 'Alpha AI', 'type': 'Course', 'version': 2.0, 'language': 'Python'}\n",
            "Dictionary after removing element: {'name': 'Alpha AI', 'version': 2.0, 'language': 'Python'}, Removed value: Course\n",
            "'name' in my_dict: True\n",
            "'course' in my_dict: False\n",
            "Keys: dict_keys(['name', 'version', 'language'])\n",
            "Values: dict_values(['Alpha AI', 2.0, 'Python'])\n"
          ]
        }
      ]
    },
    {
      "cell_type": "markdown",
      "metadata": {
        "id": "ef03a55c"
      },
      "source": [
        "### Sets\n",
        "\n",
        "Sets are unordered collections of unique items. This means that a set cannot contain duplicate elements. Sets are mutable, but the elements themselves must be immutable (like numbers, strings, or tuples). Sets are useful for operations involving uniqueness, such as removing duplicates from a list or performing mathematical set operations like union and intersection. Sets are defined by enclosing elements in curly braces `{}`, with elements separated by commas. Note that an empty set is created using `set()`, not `{}` which creates an empty dictionary."
      ]
    },
    {
      "cell_type": "code",
      "metadata": {
        "colab": {
          "base_uri": "https://localhost:8080/"
        },
        "id": "eb81f475",
        "outputId": "61642449-d656-40e4-9260-0d7d717fc898"
      },
      "source": [
        "# Set examples\n",
        "\n",
        "# Creating a set\n",
        "my_set = {1, 2, 3, 3, 4, 5} # Duplicate '3' is automatically removed\n",
        "print(f\"My set: {my_set}\")\n",
        "\n",
        "# Adding elements\n",
        "my_set.add(6)\n",
        "print(f\"Set after adding element: {my_set}\")\n",
        "\n",
        "# Removing elements\n",
        "my_set.remove(3) # Remove by value (raises an error if element not found)\n",
        "print(f\"Set after removing element: {my_set}\")\n",
        "discarded_element = my_set.discard(10) # Remove by value (does not raise an error if element not found)\n",
        "print(f\"Set after discarding element: {my_set}\")\n",
        "\n",
        "# Checking if an element is in the set\n",
        "print(f\"2 in my_set: {2 in my_set}\")\n",
        "print(f\"10 in my_set: {10 in my_set}\")\n",
        "\n",
        "# Set operations\n",
        "set1 = {1, 2, 3, 4}\n",
        "set2 = {3, 4, 5, 6}\n",
        "\n",
        "print(f\"Union of set1 and set2: {set1.union(set2)}\")           # Elements in either set1 or set2\n",
        "print(f\"Intersection of set1 and set2: {set1.intersection(set2)}\") # Elements common to both set1 and set2\n",
        "print(f\"Difference of set1 and set2: {set1.difference(set2)}\")     # Elements in set1 but not in set2\n",
        "print(f\"Symmetric difference of set1 and set2: {set1.symmetric_difference(set2)}\") # Elements in either set1 or set2 but not both"
      ],
      "execution_count": 22,
      "outputs": [
        {
          "output_type": "stream",
          "name": "stdout",
          "text": [
            "My set: {1, 2, 3, 4, 5}\n",
            "Set after adding element: {1, 2, 3, 4, 5, 6}\n",
            "Set after removing element: {1, 2, 4, 5, 6}\n",
            "Set after discarding element: {1, 2, 4, 5, 6}\n",
            "2 in my_set: True\n",
            "10 in my_set: False\n",
            "Union of set1 and set2: {1, 2, 3, 4, 5, 6}\n",
            "Intersection of set1 and set2: {3, 4}\n",
            "Difference of set1 and set2: {1, 2}\n",
            "Symmetric difference of set1 and set2: {1, 2, 5, 6}\n"
          ]
        }
      ]
    },
    {
      "cell_type": "markdown",
      "metadata": {
        "id": "5e51e9d1"
      },
      "source": [
        "## Functions and Lambda Expressions\n",
        "\n",
        "### Functions\n",
        "\n",
        "Functions are defined using the `def` keyword, followed by the function name, parentheses `()`, and a colon `:`. The code block within the function is indented. Functions can optionally take arguments (inputs) and return a value using the `return` keyword."
      ]
    },
    {
      "cell_type": "code",
      "metadata": {
        "colab": {
          "base_uri": "https://localhost:8080/"
        },
        "id": "15a4736d",
        "outputId": "a120a485-f6f5-4c79-cd5e-db4a46816d1a"
      },
      "source": [
        "# Function examples\n",
        "\n",
        "# Defining a simple function\n",
        "def greet(name):\n",
        "    \"\"\"This function greets the person passed in as a parameter.\"\"\"\n",
        "    print(f\"Hello, {name}!\")\n",
        "\n",
        "# Calling the function\n",
        "greet(\"Alpha AI\")\n",
        "\n",
        "# Function with a return value\n",
        "def add_numbers(num1, num2):\n",
        "    \"\"\"This function adds two numbers and returns the result.\"\"\"\n",
        "    return num1 + num2\n",
        "\n",
        "# Calling the function and storing the result\n",
        "sum_result = add_numbers(5, 7)\n",
        "print(f\"The sum is: {sum_result}\")\n",
        "\n",
        "# Function with default arguments\n",
        "def power(base, exponent=2):\n",
        "    \"\"\"This function calculates the power of a number with an optional exponent.\"\"\"\n",
        "    return base ** exponent\n",
        "\n",
        "print(f\"5 to the power of 2 (default): {power(5)}\")\n",
        "print(f\"5 to the power of 3: {power(5, 3)}\")\n",
        "\n",
        "# Function with variable-length arguments (*args and **kwargs)\n",
        "def print_args(*args, **kwargs):\n",
        "    \"\"\"This function demonstrates variable-length arguments.\"\"\"\n",
        "    print(\"Positional arguments (*args):\")\n",
        "    for arg in args:\n",
        "        print(arg)\n",
        "\n",
        "    print(\"\\nKeyword arguments (**kwargs):\")\n",
        "    for key, value in kwargs.items():\n",
        "        print(f\"{key}: {value}\")\n",
        "\n",
        "print_args(1, 2, 3, name=\"Alpha\", type=\"AI\")"
      ],
      "execution_count": 23,
      "outputs": [
        {
          "output_type": "stream",
          "name": "stdout",
          "text": [
            "Hello, Alpha AI!\n",
            "The sum is: 12\n",
            "5 to the power of 2 (default): 25\n",
            "5 to the power of 3: 125\n",
            "Positional arguments (*args):\n",
            "1\n",
            "2\n",
            "3\n",
            "\n",
            "Keyword arguments (**kwargs):\n",
            "name: Alpha\n",
            "type: AI\n"
          ]
        }
      ]
    },
    {
      "cell_type": "markdown",
      "metadata": {
        "id": "f87b53b2"
      },
      "source": [
        "### Lambda Expressions\n",
        "\n",
        "Lambda expressions are created using the `lambda` keyword. They have a simple syntax: `lambda arguments: expression`. They can take any number of arguments but can only have one expression. The result of the expression is implicitly returned."
      ]
    },
    {
      "cell_type": "code",
      "metadata": {
        "colab": {
          "base_uri": "https://localhost:8080/"
        },
        "id": "5c1bec3d",
        "outputId": "c609bb63-7983-4483-aba8-d459374cd071"
      },
      "source": [
        "# Lambda expression examples\n",
        "\n",
        "# A simple lambda that adds two numbers\n",
        "add = lambda x, y: x + y\n",
        "print(f\"Result of lambda addition: {add(10, 20)}\")\n",
        "\n",
        "# Lambda used with built-in functions like sorted()\n",
        "my_list = [(1, 'b'), (3, 'a'), (2, 'c')]\n",
        "# Sort the list based on the second element of each tuple\n",
        "sorted_list = sorted(my_list, key=lambda item: item[1])\n",
        "print(f\"Sorted list using lambda: {sorted_list}\")\n",
        "\n",
        "# Lambda used with filter()\n",
        "numbers = [1, 2, 3, 4, 5, 6, 7, 8, 9, 10]\n",
        "# Filter out even numbers\n",
        "even_numbers = list(filter(lambda x: x % 2 == 0, numbers))\n",
        "print(f\"Even numbers using lambda and filter: {even_numbers}\")\n",
        "\n",
        "# Lambda used with map()\n",
        "# Square each number in the list\n",
        "squared_numbers = list(map(lambda x: x**2, numbers))\n",
        "print(f\"Squared numbers using lambda and map: {squared_numbers}\")"
      ],
      "execution_count": 24,
      "outputs": [
        {
          "output_type": "stream",
          "name": "stdout",
          "text": [
            "Result of lambda addition: 30\n",
            "Sorted list using lambda: [(3, 'a'), (1, 'b'), (2, 'c')]\n",
            "Even numbers using lambda and filter: [2, 4, 6, 8, 10]\n",
            "Squared numbers using lambda and map: [1, 4, 9, 16, 25, 36, 49, 64, 81, 100]\n"
          ]
        }
      ]
    },
    {
      "cell_type": "markdown",
      "metadata": {
        "id": "c008d39e"
      },
      "source": [
        "## File I/O and Exception Handling\n",
        "\n",
        "### File I/O (Input/Output)\n",
        "\n",
        "File I/O is the process of reading from and writing to files. Python provides built-in functions and methods to work with files. The most common way to handle files is by using the `open()` function.\n",
        "\n",
        "The `open()` function takes two main arguments: the file path and the mode. Common modes include:\n",
        "\n",
        "-   `'r'`: Read mode (default). Opens a file for reading.\n",
        "-   `'w'`: Write mode. Opens a file for writing. Creates a new file if it doesn't exist or truncates the file if it exists.\n",
        "-   `'a'`: Append mode. Opens a file for writing. Creates a new file if it doesn't exist or appends data to the end of the file if it exists.\n",
        "-   `'x'`: Exclusive creation mode. Creates a new file, but raises an error if the file already exists.\n",
        "-   `'t'`: Text mode (default). Handles the file as text.\n",
        "-   `'b'`: Binary mode. Handles the file as binary data.\n",
        "\n",
        "It's good practice to use the `with` statement when working with files. This ensures that the file is automatically closed even if errors occur."
      ]
    },
    {
      "cell_type": "markdown",
      "metadata": {
        "id": "de6137f6"
      },
      "source": [
        "#### Writing to a File"
      ]
    },
    {
      "cell_type": "code",
      "metadata": {
        "colab": {
          "base_uri": "https://localhost:8080/"
        },
        "id": "ab963703",
        "outputId": "205266b2-3ce8-4153-98b4-e8c18a40cb49"
      },
      "source": [
        "# Writing to a file\n",
        "\n",
        "file_content = \"Hello, AI World!\\nThis is a sample file.\\n\"\n",
        "\n",
        "# Using 'w' mode to write (creates or overwrites the file)\n",
        "with open(\"sample.txt\", \"w\") as file:\n",
        "    file.write(file_content)\n",
        "\n",
        "print(\"Data written to sample.txt\")"
      ],
      "execution_count": 25,
      "outputs": [
        {
          "output_type": "stream",
          "name": "stdout",
          "text": [
            "Data written to sample.txt\n"
          ]
        }
      ]
    },
    {
      "cell_type": "markdown",
      "metadata": {
        "id": "55de41f9"
      },
      "source": [
        "#### Reading from a File"
      ]
    },
    {
      "cell_type": "code",
      "metadata": {
        "colab": {
          "base_uri": "https://localhost:8080/"
        },
        "id": "4aa7903d",
        "outputId": "5fa814ff-379d-4d88-9095-0607597c911d"
      },
      "source": [
        "# Reading from a file\n",
        "\n",
        "try:\n",
        "    # Using 'r' mode to read\n",
        "    with open(\"sample.txt\", \"r\") as file:\n",
        "        read_content = file.read()\n",
        "        print(\"\\nContent read from sample.txt:\")\n",
        "        print(read_content)\n",
        "except FileNotFoundError:\n",
        "    print(\"\\nError: sample.txt not found.\")\n",
        "except Exception as e:\n",
        "    print(f\"\\nAn error occurred: {e}\")"
      ],
      "execution_count": 26,
      "outputs": [
        {
          "output_type": "stream",
          "name": "stdout",
          "text": [
            "\n",
            "Content read from sample.txt:\n",
            "Hello, AI World!\n",
            "This is a sample file.\n",
            "\n"
          ]
        }
      ]
    },
    {
      "cell_type": "markdown",
      "metadata": {
        "id": "df88eef7"
      },
      "source": [
        "#### Appending to a File"
      ]
    },
    {
      "cell_type": "code",
      "metadata": {
        "colab": {
          "base_uri": "https://localhost:8080/"
        },
        "id": "5b8bf4dc",
        "outputId": "9670b3b7-3482-49df-bfb1-f12ad50c5cb5"
      },
      "source": [
        "# Appending to a file\n",
        "\n",
        "append_content = \"Adding another line.\\n\"\n",
        "\n",
        "# Using 'a' mode to append\n",
        "with open(\"sample.txt\", \"a\") as file:\n",
        "    file.write(append_content)\n",
        "\n",
        "print(\"Data appended to sample.txt\")\n",
        "\n",
        "# Read again to see the appended content\n",
        "try:\n",
        "    with open(\"sample.txt\", \"r\") as file:\n",
        "        read_content_after_append = file.read()\n",
        "        print(\"\\nContent after appending:\")\n",
        "        print(read_content_after_append)\n",
        "except FileNotFoundError:\n",
        "    print(\"\\nError: sample.txt not found after appending.\")\n",
        "except Exception as e:\n",
        "    print(f\"\\nAn error occurred: {e}\")"
      ],
      "execution_count": 27,
      "outputs": [
        {
          "output_type": "stream",
          "name": "stdout",
          "text": [
            "Data appended to sample.txt\n",
            "\n",
            "Content after appending:\n",
            "Hello, AI World!\n",
            "This is a sample file.\n",
            "Adding another line.\n",
            "\n"
          ]
        }
      ]
    },
    {
      "cell_type": "markdown",
      "metadata": {
        "id": "04dedbfb"
      },
      "source": [
        "### Exception Handling (try, except, finally)\n",
        "\n",
        "Exception handling allows you to anticipate and manage errors that might occur during program execution. This prevents your program from crashing unexpectedly. The core components are:\n",
        "\n",
        "-   `try`: The block of code that might raise an exception.\n",
        "-   `except`: The block of code that is executed if a specific exception occurs in the `try` block. You can specify different `except` blocks for different exception types.\n",
        "-   `else`: (Optional) The block of code that is executed if no exception occurs in the `try` block.\n",
        "-   `finally`: (Optional) The block of code that is always executed, regardless of whether an exception occurred or not. This is often used for cleanup operations (like closing files)."
      ]
    },
    {
      "cell_type": "markdown",
      "metadata": {
        "id": "6deda135"
      },
      "source": [
        "#### Exception Handling Examples"
      ]
    },
    {
      "cell_type": "code",
      "metadata": {
        "colab": {
          "base_uri": "https://localhost:8080/"
        },
        "id": "d0b16da1",
        "outputId": "49029f2e-d131-4bd3-a655-95afae7551d0"
      },
      "source": [
        "# Exception Handling Example 1: Division by zero\n",
        "\n",
        "def divide(a, b):\n",
        "    try:\n",
        "        result = a / b\n",
        "        print(f\"Result of division: {result}\")\n",
        "    except ZeroDivisionError:\n",
        "        print(\"Error: Cannot divide by zero!\")\n",
        "    except TypeError:\n",
        "        print(\"Error: Invalid input types for division.\")\n",
        "    except Exception as e:\n",
        "        print(f\"An unexpected error occurred: {e}\")\n",
        "    finally:\n",
        "        print(\"Division attempt finished.\")\n",
        "\n",
        "divide(10, 2)\n",
        "divide(10, 0)\n",
        "divide(10, \"a\")"
      ],
      "execution_count": 28,
      "outputs": [
        {
          "output_type": "stream",
          "name": "stdout",
          "text": [
            "Result of division: 5.0\n",
            "Division attempt finished.\n",
            "Error: Cannot divide by zero!\n",
            "Division attempt finished.\n",
            "Error: Invalid input types for division.\n",
            "Division attempt finished.\n"
          ]
        }
      ]
    },
    {
      "cell_type": "code",
      "metadata": {
        "colab": {
          "base_uri": "https://localhost:8080/"
        },
        "id": "558a5940",
        "outputId": "2bbb7103-fb74-4e82-dbee-d7b8656c3109"
      },
      "source": [
        "# Exception Handling Example 2: File Not Found\n",
        "\n",
        "def read_file_safely(filename):\n",
        "    try:\n",
        "        with open(filename, 'r') as file:\n",
        "            content = file.read()\n",
        "            print(f\"File content:\\n{content}\")\n",
        "    except FileNotFoundError:\n",
        "        print(f\"Error: File '{filename}' not found.\")\n",
        "    except Exception as e:\n",
        "        print(f\"An error occurred while reading the file: {e}\")\n",
        "    finally:\n",
        "        print(\"File reading attempt finished.\")\n",
        "\n",
        "read_file_safely(\"non_existent_file.txt\")\n",
        "read_file_safely(\"sample.txt\") # This file was created in the File I/O examples"
      ],
      "execution_count": 29,
      "outputs": [
        {
          "output_type": "stream",
          "name": "stdout",
          "text": [
            "Error: File 'non_existent_file.txt' not found.\n",
            "File reading attempt finished.\n",
            "File content:\n",
            "Hello, AI World!\n",
            "This is a sample file.\n",
            "Adding another line.\n",
            "\n",
            "File reading attempt finished.\n"
          ]
        }
      ]
    },
    {
      "cell_type": "markdown",
      "metadata": {
        "id": "1c99ea05"
      },
      "source": [
        "## Object-Oriented Programming (OOP) in Python\n",
        "\n",
        "Object-Oriented Programming (OOP) is a powerful programming paradigm that structures code around **objects**, rather than just functions and procedures. Objects are instances of **classes**, which serve as blueprints for creating objects. OOP helps in organizing complex programs, promoting code reusability, and making code more manageable.\n",
        "\n",
        "### Core Concepts of OOP:\n",
        "\n",
        "-   **Class**: A blueprint or template for creating objects. It defines the attributes (data) and methods (functions) that objects of that class will have.\n",
        "-   **Object**: An instance of a class. When a class is defined, no memory is allocated until an object is created from it.\n",
        "-   **Attribute**: Variables that store data associated with an object. They represent the state of an object.\n",
        "-   **Method**: Functions defined within a class that perform actions on the object's attributes. They define the behavior of an object.\n",
        "-   **Inheritance**: A mechanism where a new class (derived or child class) inherits attributes and methods from an existing class (base or parent class). This promotes code reusability.\n",
        "-   **Encapsulation**: The bundling of data (attributes) and methods that operate on the data into a single unit (the class). It also involves restricting direct access to some of an object's components, preventing accidental modification of data.\n",
        "-   **Polymorphism**: The ability of different objects to respond to the same method call in their own way. (We can explore this further if you'd like!)"
      ]
    },
    {
      "cell_type": "markdown",
      "metadata": {
        "id": "00684a8f"
      },
      "source": [
        "### Classes and Objects\n",
        "\n",
        "Let's start by defining a simple class and creating an object from it."
      ]
    },
    {
      "cell_type": "code",
      "metadata": {
        "colab": {
          "base_uri": "https://localhost:8080/"
        },
        "id": "5f9af8de",
        "outputId": "4f81343d-1227-4610-b429-3f414c7d4f00"
      },
      "source": [
        "# Defining a class\n",
        "class Dog:\n",
        "    # Class attribute (shared by all instances of the class)\n",
        "    species = \"Canis familiaris\"\n",
        "\n",
        "    # The __init__ method is the constructor\n",
        "    def __init__(self, name, age):\n",
        "        # Instance attributes (unique to each object)\n",
        "        self.name = name\n",
        "        self.age = age\n",
        "\n",
        "    # Instance method\n",
        "    def bark(self):\n",
        "        return f\"{self.name} says Woof!\"\n",
        "\n",
        "    # Another instance method\n",
        "    def description(self):\n",
        "        return f\"{self.name} is {self.age} years old.\"\n",
        "\n",
        "# Creating objects (instances of the Dog class)\n",
        "my_dog = Dog(\"Buddy\", 3)\n",
        "your_dog = Dog(\"Lucy\", 5)\n",
        "\n",
        "# Accessing attributes\n",
        "print(f\"My dog's name: {my_dog.name}\")\n",
        "print(f\"Your dog's age: {your_dog.age}\")\n",
        "\n",
        "# Accessing class attribute\n",
        "print(f\"My dog's species: {my_dog.species}\")\n",
        "print(f\"Your dog's species: {your_dog.species}\")\n",
        "\n",
        "# Calling methods\n",
        "print(my_dog.bark())\n",
        "print(your_dog.description())"
      ],
      "execution_count": 30,
      "outputs": [
        {
          "output_type": "stream",
          "name": "stdout",
          "text": [
            "My dog's name: Buddy\n",
            "Your dog's age: 5\n",
            "My dog's species: Canis familiaris\n",
            "Your dog's species: Canis familiaris\n",
            "Buddy says Woof!\n",
            "Lucy is 5 years old.\n"
          ]
        }
      ]
    },
    {
      "cell_type": "markdown",
      "metadata": {
        "id": "d5b97514"
      },
      "source": [
        "### Inheritance\n",
        "\n",
        "Inheritance allows us to define a new class that inherits attributes and methods from an existing class. This is useful for creating a hierarchy of classes and reusing code."
      ]
    },
    {
      "cell_type": "code",
      "metadata": {
        "colab": {
          "base_uri": "https://localhost:8080/"
        },
        "id": "e1605495",
        "outputId": "c835760a-974a-4b44-dcbd-e585620f258a"
      },
      "source": [
        "# Define a base class\n",
        "class Animal:\n",
        "    def __init__(self, name):\n",
        "        self.name = name\n",
        "\n",
        "    def speak(self):\n",
        "        raise NotImplementedError(\"Subclass must implement abstract method\")\n",
        "\n",
        "# Define a derived class that inherits from Animal\n",
        "class Cat(Animal):\n",
        "    def speak(self):\n",
        "        return f\"{self.name} says Meow!\"\n",
        "\n",
        "# Define another derived class\n",
        "class Cow(Animal):\n",
        "    def speak(self):\n",
        "        return f\"{self.name} says Moo!\"\n",
        "\n",
        "# Creating objects of the derived classes\n",
        "my_cat = Cat(\"Whiskers\")\n",
        "my_cow = Cow(\"Betsy\")\n",
        "\n",
        "# Calling inherited and overridden methods\n",
        "print(my_cat.speak())\n",
        "print(my_cow.speak())"
      ],
      "execution_count": 31,
      "outputs": [
        {
          "output_type": "stream",
          "name": "stdout",
          "text": [
            "Whiskers says Meow!\n",
            "Betsy says Moo!\n"
          ]
        }
      ]
    },
    {
      "cell_type": "markdown",
      "metadata": {
        "id": "622db014"
      },
      "source": [
        "### Encapsulation\n",
        "\n",
        "Encapsulation is about bundling data and methods within a class and controlling access to that data. In Python, you can indicate that an attribute is intended to be private by prefixing its name with a double underscore (`__`). This is a naming convention that triggers name mangling, making it harder to access the attribute directly from outside the class."
      ]
    },
    {
      "cell_type": "code",
      "metadata": {
        "colab": {
          "base_uri": "https://localhost:8080/"
        },
        "id": "d5b83956",
        "outputId": "3629c4b6-13ad-45dc-f7a5-283b00bd7704"
      },
      "source": [
        "# Encapsulation example\n",
        "class BankAccount:\n",
        "    def __init__(self, account_number, balance):\n",
        "        self.__account_number = account_number  # \"Private\" attribute\n",
        "        self.__balance = balance              # \"Private\" attribute\n",
        "\n",
        "    def deposit(self, amount):\n",
        "        if amount > 0:\n",
        "            self.__balance += amount\n",
        "            print(f\"Deposited {amount}. New balance: {self.__balance}\")\n",
        "        else:\n",
        "            print(\"Deposit amount must be positive.\")\n",
        "\n",
        "    def withdraw(self, amount):\n",
        "        if amount > 0 and amount <= self.__balance:\n",
        "            self.__balance -= amount\n",
        "            print(f\"Withdrew {amount}. New balance: {self.__balance}\")\n",
        "        else:\n",
        "            print(\"Invalid withdrawal amount or insufficient funds.\")\n",
        "\n",
        "    def get_balance(self):\n",
        "        return self.__balance\n",
        "\n",
        "# Creating an object\n",
        "account = BankAccount(\"123456789\", 1000)\n",
        "\n",
        "# Accessing methods to interact with the data\n",
        "account.deposit(500)\n",
        "account.withdraw(200)\n",
        "print(f\"Current balance: {account.get_balance()}\")\n",
        "\n",
        "# Attempting to access private attributes directly (will likely result in an AttributeError)\n",
        "# print(account.__balance) # Uncommenting this line will cause an error"
      ],
      "execution_count": 32,
      "outputs": [
        {
          "output_type": "stream",
          "name": "stdout",
          "text": [
            "Deposited 500. New balance: 1500\n",
            "Withdrew 200. New balance: 1300\n",
            "Current balance: 1300\n"
          ]
        }
      ]
    }
  ]
}