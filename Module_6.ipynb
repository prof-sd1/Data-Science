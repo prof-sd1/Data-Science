{
  "nbformat": 4,
  "nbformat_minor": 0,
  "metadata": {
    "colab": {
      "provenance": [],
      "authorship_tag": "ABX9TyP5wjrDqR47dVsCMvGwxuto",
      "include_colab_link": true
    },
    "kernelspec": {
      "name": "python3",
      "display_name": "Python 3"
    },
    "language_info": {
      "name": "python"
    }
  },
  "cells": [
    {
      "cell_type": "markdown",
      "metadata": {
        "id": "view-in-github",
        "colab_type": "text"
      },
      "source": [
        "<a href=\"https://colab.research.google.com/github/prof-sd1/Data-Science/blob/main/Module_6.ipynb\" target=\"_parent\"><img src=\"https://colab.research.google.com/assets/colab-badge.svg\" alt=\"Open In Colab\"/></a>"
      ]
    },
    {
      "cell_type": "markdown",
      "source": [
        "# Module 6: Statistical Foundations for Data Science"
      ],
      "metadata": {
        "id": "Jm4tF448kg33"
      }
    },
    {
      "cell_type": "markdown",
      "source": [
        "## 6.1 Central Tendency & Dispersion"
      ],
      "metadata": {
        "id": "bHTsPDkzrnuV"
      }
    },
    {
      "cell_type": "markdown",
      "source": [
        "#### **6.1.1 Measures of Central Tendency**\n",
        "\n",
        "Measures of central tendency aim to describe the \"center\" or \"typical\" value of a dataset. They provide a single value that represents the entire distribution.\n",
        "\n",
        "**A. Mean (Average)**\n",
        "\n",
        "  * **Definition:** The sum of all values divided by the number of values in the dataset.\n",
        "      * **Formula:** $\\\\bar{x} = \\\\frac{\\\\sum\\_{i=1}^{n} x\\_i}{n}$\n",
        "  * **Strengths:** Simple to calculate, uses all data points.\n",
        "  * **Weaknesses:** Highly sensitive to outliers (extreme values). Best for symmetrically distributed data without extreme values.\n",
        "  * **Use Case:** Ideal for representing the typical value when data is not skewed.\n",
        "\n",
        "**B. Median**\n",
        "\n",
        "  * **Definition:** The middle value of a dataset when it is ordered from least to greatest. If there's an even number of observations, it's the average of the two middle values.\n",
        "  * **Strengths:** Robust to outliers; not affected by extreme values. Best for skewed distributions.\n",
        "  * **Weaknesses:** Does not use all data points in its calculation.\n",
        "  * **Use Case:** Preferred for skewed data, income distributions, or when outliers are present.\n",
        "\n",
        "**C. Mode**\n",
        "\n",
        "  * **Definition:** The value that appears most frequently in a dataset. A dataset can have one mode (unimodal), multiple modes (multimodal), or no mode (if all values appear with the same frequency).\n",
        "  * **Strengths:** Applicable to all types of data (numerical and categorical). Not affected by outliers.\n",
        "  * **Weaknesses:** May not exist or may not be unique. Can be less informative for continuous data.\n",
        "  * **Use Case:** Useful for categorical data (e.g., most popular product) or discrete numerical data with repeating values.\n",
        "\n",
        "-----\n",
        "\n",
        "#### **6.1.2 Measures of Dispersion (Variability)**\n",
        "\n",
        "Measures of dispersion (or variability) describe how spread out or scattered the data points are around the central tendency. They indicate the degree to which individual data points differ from the average.\n",
        "\n",
        "**A. Range**\n",
        "\n",
        "  * **Definition:** The difference between the maximum and minimum values in a dataset.\n",
        "      * **Formula:** Range = $Max - Min$\n",
        "  * **Strengths:** Simple to calculate and understand.\n",
        "  * **Weaknesses:** Highly sensitive to outliers; only considers two data points.\n",
        "  * **Use Case:** Quick and simple estimate of spread, but often not used as the sole measure of variability.\n",
        "\n",
        "**B. Variance ($\\\\sigma^2$ or $s^2$)**\n",
        "\n",
        "  * **Definition:** The average of the squared differences from the mean. It measures how far each number in the dataset is from the mean.\n",
        "      * **Population Variance Formula:** $\\\\sigma^2 = \\\\frac{\\\\sum\\_{i=1}^{N} (x\\_i - \\\\mu)^2}{N}$\n",
        "      * **Sample Variance Formula:** $s^2 = \\\\frac{\\\\sum\\_{i=1}^{n} (x\\_i - \\\\bar{x})^2}{n-1}$ (using $n-1$ for unbiased estimation of population variance from a sample)\n",
        "  * **Strengths:** Uses all data points; provides a good measure of spread when outliers are not a major concern.\n",
        "  * **Weaknesses:** Units are squared (e.g., if data is in meters, variance is in meters squared), making it less intuitive to interpret directly. Sensitive to outliers.\n",
        "  * **Use Case:** Fundamental for many statistical tests and models, but standard deviation is often preferred for direct interpretation.\n",
        "\n",
        "**C. Standard Deviation ($\\\\sigma$ or $s$)**\n",
        "\n",
        "  * **Definition:** The square root of the variance. It is the most commonly used measure of spread and indicates the typical distance of data points from the mean.\n",
        "      * **Population Standard Deviation Formula:** $\\\\sigma = \\\\sqrt{\\\\frac{\\\\sum\\_{i=1}^{N} (x\\_i - \\\\mu)^2}{N}}$\n",
        "      * **Sample Standard Deviation Formula:** $s = \\\\sqrt{\\\\frac{\\\\sum\\_{i=1}^{n} (x\\_i - \\\\bar{x})^2}{n-1}}$\n",
        "  * **Strengths:** Units are the same as the original data, making it much easier to interpret than variance. Less sensitive to outliers than range, but still affected.\n",
        "  * **Weaknesses:** Still influenced by outliers.\n",
        "  * **Use Case:** Widely used to understand data variability, especially in conjunction with the mean for normally distributed data (e.g., in quality control, scientific experiments).\n",
        "\n",
        "-----\n",
        "\n",
        "#### **6.1.3 Impact of Outliers**\n",
        "\n",
        "  * **Outliers:** Data points that significantly deviate from other observations in a dataset.\n",
        "\n",
        "  * **Impact:**\n",
        "\n",
        "      * **Mean:** Heavily affected, pulled towards the outlier.\n",
        "      * **Median:** Robust, largely unaffected.\n",
        "      * **Mode:** Generally unaffected, unless the outlier is a recurring unique value.\n",
        "      * **Range:** Heavily affected, as it relies on min/max.\n",
        "      * **Variance/Standard Deviation:** Inflated, indicating a larger spread than truly representative of the majority of data.\n",
        "\n",
        "  * **Handling Outliers (Brief mention for this module):** Depending on the context, outliers might be errors, rare events, or genuinely extreme values. They might need to be removed, transformed, or handled specifically in analysis. More on this in later modules (e.g., Data Preprocessing).\n"
      ],
      "metadata": {
        "id": "3hH-9Jrl5sWL"
      }
    },
    {
      "cell_type": "code",
      "execution_count": 1,
      "metadata": {
        "id": "i1xr_CtuBnMq"
      },
      "outputs": [],
      "source": [
        "# Import necessary libraries\n",
        "import numpy as np\n",
        "import pandas as pd\n",
        "\n",
        "# Suppress warnings for cleaner output (optional)\n",
        "import warnings\n",
        "warnings.filterwarnings('ignore')"
      ]
    },
    {
      "cell_type": "markdown",
      "source": [
        "**Example Dataset:**\n",
        "Let's create a sample dataset representing the daily sales (in USD) of a small shop over 10 days, including one unusually high sales day (an outlier)."
      ],
      "metadata": {
        "id": "IZRhhrUP57OW"
      }
    },
    {
      "cell_type": "code",
      "source": [
        "# Define our dataset\n",
        "sales_data = np.array([120, 150, 130, 140, 160, 180, 135, 145, 155, 1200]) # The 1200 is an outlier\n",
        "print(f\"Sales Data: {sales_data}\")\n",
        "\n",
        "# Let's also create a pandas Series for easier analysis\n",
        "sales_series = pd.Series(sales_data)\n",
        "print(\"\\nSales Data (Pandas Series):\\n\", sales_series)"
      ],
      "metadata": {
        "colab": {
          "base_uri": "https://localhost:8080/"
        },
        "id": "pM98Pzsr535n",
        "outputId": "7a8a4588-4e94-4ac4-ad53-98253427c112"
      },
      "execution_count": 2,
      "outputs": [
        {
          "output_type": "stream",
          "name": "stdout",
          "text": [
            "Sales Data: [ 120  150  130  140  160  180  135  145  155 1200]\n",
            "\n",
            "Sales Data (Pandas Series):\n",
            " 0     120\n",
            "1     150\n",
            "2     130\n",
            "3     140\n",
            "4     160\n",
            "5     180\n",
            "6     135\n",
            "7     145\n",
            "8     155\n",
            "9    1200\n",
            "dtype: int64\n"
          ]
        }
      ]
    },
    {
      "cell_type": "markdown",
      "source": [
        "**A. Calculating Measures of Central Tendency:**"
      ],
      "metadata": {
        "id": "rIZ4sY7O6EGt"
      }
    },
    {
      "cell_type": "code",
      "source": [
        "# --- Using NumPy ---\n",
        "print(\"\\n--- Measures of Central Tendency (NumPy) ---\")\n",
        "np_mean = np.mean(sales_data)\n",
        "np_median = np.median(sales_data)\n",
        "# Mode is not directly in NumPy, typically done with scipy or manually for simple cases\n",
        "# For demonstration, we'll use pandas for mode or collections.Counter\n",
        "\n",
        "print(f\"NumPy Mean:   {np_mean:.2f}\")\n",
        "print(f\"NumPy Median: {np_median:.2f}\")\n",
        "\n",
        "# --- Using Pandas ---\n",
        "print(\"\\n--- Measures of Central Tendency (Pandas) ---\")\n",
        "pd_mean = sales_series.mean()\n",
        "pd_median = sales_series.median()\n",
        "pd_mode = sales_series.mode() # Returns a Series, as there can be multiple modes\n",
        "\n",
        "print(f\"Pandas Mean:   {pd_mean:.2f}\")\n",
        "print(f\"Pandas Median: {pd_median:.2f}\")\n",
        "print(f\"Pandas Mode:\\n{pd_mode}\") # Notice 120 appears twice\n",
        "\n",
        "# --- Discussing the Outlier's Impact ---\n",
        "print(\"\\n--- Impact of Outlier (1200) ---\")\n",
        "# Remove the outlier and recalculate to see the difference\n",
        "sales_data_no_outlier = np.array([120, 150, 130, 140, 160, 180, 135, 145, 155])\n",
        "print(f\"Original Mean (with outlier):   {np.mean(sales_data):.2f}\")\n",
        "print(f\"Mean (without outlier):         {np.mean(sales_data_no_outlier):.2f}\")\n",
        "print(f\"Original Median (with outlier): {np.median(sales_data):.2f}\")\n",
        "print(f\"Median (without outlier):       {np.median(sales_data_no_outlier):.2f}\")\n",
        "\n",
        "print(\"\\nObservation: The mean changed significantly (from 244.50 to 143.33) when the outlier was removed, while the median changed only slightly (from 147.50 to 145.00). This illustrates the median's robustness to outliers.\")"
      ],
      "metadata": {
        "colab": {
          "base_uri": "https://localhost:8080/"
        },
        "id": "lGO3_Iwr5_TA",
        "outputId": "57ca5738-7caf-43c1-fc35-e83a9d875681"
      },
      "execution_count": 3,
      "outputs": [
        {
          "output_type": "stream",
          "name": "stdout",
          "text": [
            "\n",
            "--- Measures of Central Tendency (NumPy) ---\n",
            "NumPy Mean:   251.50\n",
            "NumPy Median: 147.50\n",
            "\n",
            "--- Measures of Central Tendency (Pandas) ---\n",
            "Pandas Mean:   251.50\n",
            "Pandas Median: 147.50\n",
            "Pandas Mode:\n",
            "0     120\n",
            "1     130\n",
            "2     135\n",
            "3     140\n",
            "4     145\n",
            "5     150\n",
            "6     155\n",
            "7     160\n",
            "8     180\n",
            "9    1200\n",
            "dtype: int64\n",
            "\n",
            "--- Impact of Outlier (1200) ---\n",
            "Original Mean (with outlier):   251.50\n",
            "Mean (without outlier):         146.11\n",
            "Original Median (with outlier): 147.50\n",
            "Median (without outlier):       145.00\n",
            "\n",
            "Observation: The mean changed significantly (from 244.50 to 143.33) when the outlier was removed, while the median changed only slightly (from 147.50 to 145.00). This illustrates the median's robustness to outliers.\n"
          ]
        }
      ]
    },
    {
      "cell_type": "markdown",
      "source": [
        "**B. Calculating Measures of Dispersion:**"
      ],
      "metadata": {
        "id": "ux11FVzD6NTc"
      }
    },
    {
      "cell_type": "code",
      "source": [
        "# --- Using NumPy ---\n",
        "print(\"\\n--- Measures of Dispersion (NumPy) ---\")\n",
        "np_min = np.min(sales_data)\n",
        "np_max = np.max(sales_data)\n",
        "np_range = np_max - np_min\n",
        "np_variance = np.var(sales_data)        # By default, np.var uses N (population variance)\n",
        "np_std_dev = np.std(sales_data)         # By default, np.std uses N (population std dev)\n",
        "\n",
        "# For sample variance/std dev (using n-1 in denominator, also known as 'ddof=1')\n",
        "np_variance_sample = np.var(sales_data, ddof=1)\n",
        "np_std_dev_sample = np.std(sales_data, ddof=1)\n",
        "\n",
        "\n",
        "print(f\"Min:               {np_min}\")\n",
        "print(f\"Max:               {np_max}\")\n",
        "print(f\"Range:             {np_range}\")\n",
        "print(f\"Variance (Pop.):   {np_variance:.2f}\")\n",
        "print(f\"Std Dev (Pop.):    {np_std_dev:.2f}\")\n",
        "print(f\"Variance (Sample): {np_variance_sample:.2f}\")\n",
        "print(f\"Std Dev (Sample):  {np_std_dev_sample:.2f}\")\n",
        "\n",
        "\n",
        "# --- Using Pandas ---\n",
        "print(\"\\n--- Measures of Dispersion (Pandas) ---\")\n",
        "pd_min = sales_series.min()\n",
        "pd_max = sales_series.max()\n",
        "pd_range = pd_max - pd_min # Calculate range manually\n",
        "pd_variance = sales_series.var() # By default, pd.var uses n-1 (sample variance)\n",
        "pd_std_dev = sales_series.std()  # By default, pd.std uses n-1 (sample std dev)\n",
        "\n",
        "print(f\"Min:               {pd_min}\")\n",
        "print(f\"Max:               {pd_max}\")\n",
        "print(f\"Range:             {pd_range}\")\n",
        "print(f\"Variance (Sample): {pd_variance:.2f}\")\n",
        "print(f\"Std Dev (Sample):  {pd_std_dev:.2f}\")\n",
        "\n",
        "# --- Discussing the Outlier's Impact on Dispersion ---\n",
        "print(\"\\n--- Impact of Outlier on Dispersion ---\")\n",
        "print(f\"Original Range (with outlier):             {np.max(sales_data) - np.min(sales_data)}\")\n",
        "print(f\"Range (without outlier):                   {np.max(sales_data_no_outlier) - np.min(sales_data_no_outlier)}\")\n",
        "print(f\"Original Std Dev (Sample, with outlier):   {np.std(sales_data, ddof=1):.2f}\")\n",
        "print(f\"Std Dev (Sample, without outlier):         {np.std(sales_data_no_outlier, ddof=1):.2f}\")\n",
        "\n",
        "print(\"\\nObservation: All measures of dispersion, especially Range, Variance, and Standard Deviation, are significantly inflated by the presence of the outlier. This indicates the data appears much more spread out than it truly is for the majority of the observations.\")"
      ],
      "metadata": {
        "colab": {
          "base_uri": "https://localhost:8080/"
        },
        "id": "OmdUVC3E6HMp",
        "outputId": "ee7c70a4-7638-425b-b538-991e1daccdc5"
      },
      "execution_count": 4,
      "outputs": [
        {
          "output_type": "stream",
          "name": "stdout",
          "text": [
            "\n",
            "--- Measures of Dispersion (NumPy) ---\n",
            "Min:               120\n",
            "Max:               1200\n",
            "Range:             1080\n",
            "Variance (Pop.):   100215.25\n",
            "Std Dev (Pop.):    316.57\n",
            "Variance (Sample): 111350.28\n",
            "Std Dev (Sample):  333.69\n",
            "\n",
            "--- Measures of Dispersion (Pandas) ---\n",
            "Min:               120\n",
            "Max:               1200\n",
            "Range:             1080\n",
            "Variance (Sample): 111350.28\n",
            "Std Dev (Sample):  333.69\n",
            "\n",
            "--- Impact of Outlier on Dispersion ---\n",
            "Original Range (with outlier):             1080\n",
            "Range (without outlier):                   60\n",
            "Original Std Dev (Sample, with outlier):   333.69\n",
            "Std Dev (Sample, without outlier):         17.81\n",
            "\n",
            "Observation: All measures of dispersion, especially Range, Variance, and Standard Deviation, are significantly inflated by the presence of the outlier. This indicates the data appears much more spread out than it truly is for the majority of the observations.\n"
          ]
        }
      ]
    },
    {
      "cell_type": "markdown",
      "source": [
        "-----\n",
        "\n",
        "#### **Exercises & Practice**\n",
        "\n",
        "**1: Analyzing Student Scores**\n",
        "\n",
        "Consider the following list of student scores on a recent exam: `[78, 92, 65, 88, 70, 95, 81, 72, 68, 85, 100, 50, 75, 80, 90]`\n",
        "\n",
        "1.  Load this data into a Pandas Series.\n",
        "2.  Calculate the mean, median, and mode of the exam scores.\n",
        "3.  Calculate the range, variance (sample), and standard deviation (sample) of the exam scores.\n",
        "4.  Identify if there are any potential outliers. If the lowest score was `10` instead of `50`, how would that impact the mean and median? (You can create a new series for this scenario).\n",
        "5.  Based on your findings, which measure of central tendency best represents the \"typical\" student score and why?\n",
        "-----\n",
        "\n",
        "**2: Analyzing Financial Data Volatility**\n",
        "\n",
        "Using a simulated stock price data: `[100, 102, 101, 105, 103, 104, 106, 105, 107, 108, 200]` (Note the outlier at the end simulating a sudden jump).\n",
        "\n",
        "1.  Load this data into a Pandas Series.\n",
        "2.  Calculate the mean, median, and standard deviation.\n",
        "3.  Explain how the outlier `200` influences these measures.\n",
        "4.  If you were advising an investor, which measure of central tendency would you primarily use to describe the \"typical\" price, and which measure of dispersion would you use to describe its \"volatility\"? Justify your choices.\n",
        "5.  **Bonus:** Research and briefly explain the concept of **Interquartile Range (IQR)** as another measure of dispersion that is more robust to outliers than standard deviation. Calculate the IQR for the given stock price data.\n",
        "\n",
        "<!-- end list -->"
      ],
      "metadata": {
        "id": "MLBpqVY_6aFM"
      }
    },
    {
      "cell_type": "markdown",
      "source": [
        "## 6.2 Probability Concepts & Bayes' Theorem"
      ],
      "metadata": {
        "id": "dbLDCAkc71pF"
      }
    },
    {
      "cell_type": "markdown",
      "source": [
        "#### **6.2.1 Introduction to Probability**\n",
        "\n",
        "Probability is the measure of the likelihood that an event will occur. It is quantified as a number between 0 and 1 (or 0% and 100%), where 0 indicates impossibility and 1 indicates certainty.\n",
        "\n",
        "**Key Terminology:**\n",
        "\n",
        "  * **Experiment:** A process or action with uncertain outcomes (e.g., flipping a coin, rolling a die).\n",
        "  * **Outcome:** A single possible result of an experiment (e.g., \"Heads\" when flipping a coin).\n",
        "  * **Sample Space ($\\\\Omega$ or $S$):** The set of all possible outcomes of an experiment (e.g., for a coin flip: {Heads, Tails}; for a die roll: {1, 2, 3, 4, 5, 6}).\n",
        "  * **Event ($E$):** A subset of the sample space; a collection of one or more outcomes (e.g., getting an even number when rolling a die: {2, 4, 6}).\n",
        "\n",
        "**Types of Probability:**\n",
        "\n",
        "1.  **Theoretical Probability:** Based on logical reasoning or known properties of the event, assuming ideal conditions.\n",
        "      * $P(E) = \\\\frac{\\\\text{Number of favorable outcomes}}{\\\\text{Total number of possible outcomes}}$\n",
        "2.  **Empirical (Experimental) Probability:** Based on observations from experiments or real-world data.\n",
        "      * $P(E) = \\\\frac{\\\\text{Number of times event E occurred}}{\\\\text{Total number of trials}}$\n",
        "3.  **Subjective Probability:** Based on personal judgment, experience, or intuition. Often used when objective data is scarce.\n",
        "\n",
        "-----\n",
        "\n",
        "#### **6.2.2 Basic Probability Calculations**\n",
        "\n",
        "**A. Single Event Probability:**\n",
        "Calculating the probability of a single event occurring.\n",
        "\n",
        "**Example:** What is the probability of rolling a '4' on a fair six-sided die?\n",
        "\n",
        "  * Favorable outcomes = {4} (1 outcome)\n",
        "  * Total possible outcomes = {1, 2, 3, 4, 5, 6} (6 outcomes)\n",
        "  * $P(\\\\text{rolling a 4}) = \\\\frac{1}{6}$\n",
        "\n",
        "**B. Complement of an Event:**\n",
        "The probability that an event *does not* occur.\n",
        "\n",
        "  * $P(E') = 1 - P(E)$ (where $E'$ is the complement of $E$)\n",
        "\n",
        "**Example:** What is the probability of *not* rolling a '4' on a fair six-sided die?\n",
        "\n",
        "  * $P(\\\\text{not rolling a 4}) = 1 - P(\\\\text{rolling a 4}) = 1 - \\\\frac{1}{6} = \\\\frac{5}{6}$\n",
        "\n",
        "-----\n",
        "\n",
        "#### **6.2.3 Compound Events & Probability Rules**\n",
        "\n",
        "**A. Mutually Exclusive Events:**\n",
        "Two events are mutually exclusive (or disjoint) if they cannot occur at the same time (i.e., they have no outcomes in common).\n",
        "\n",
        "  * **Addition Rule for Mutually Exclusive Events:**\n",
        "      * $P(A \\\\text{ or } B) = P(A) + P(B)$\n",
        "\n",
        "**Example:** What is the probability of rolling a '2' or a '5' on a fair six-sided die?\n",
        "\n",
        "  * $P(\\\\text{rolling a 2}) = \\\\frac{1}{6}$\n",
        "  * $P(\\\\text{rolling a 5}) = \\\\frac{1}{6}$\n",
        "  * These are mutually exclusive events.\n",
        "  * $P(\\\\text{rolling a 2 or a 5}) = P(\\\\text{rolling a 2}) + P(\\\\text{rolling a 5}) = \\\\frac{1}{6} + \\\\frac{1}{6} = \\\\frac{2}{6} = \\\\frac{1}{3}$\n",
        "\n",
        "**B. Non-Mutually Exclusive Events:**\n",
        "Two events are non-mutually exclusive if they can occur at the same time (i.e., they share one or more outcomes).\n",
        "\n",
        "  * **General Addition Rule:**\n",
        "      * $P(A \\\\text{ or } B) = P(A) + P(B) - P(A \\\\text{ and } B)$ (where $P(A \\\\text{ and } B)$ is the probability of both A and B occurring)\n",
        "\n",
        "**Example:** What is the probability of drawing a red card or a face card from a standard 52-card deck?\n",
        "\n",
        "  * $P(\\\\text{Red}) = \\\\frac{26}{52} = \\\\frac{1}{2}$\n",
        "  * $P(\\\\text{Face Card}) = \\\\frac{12}{52} = \\\\frac{3}{13}$ (Jack, Queen, King of each of 4 suits)\n",
        "  * $P(\\\\text{Red AND Face Card}) = \\\\frac{6}{52} = \\\\frac{3}{26}$ (Jack, Queen, King of Hearts + Jack, Queen, King of Diamonds)\n",
        "  * $P(\\\\text{Red or Face Card}) = P(\\\\text{Red}) + P(\\\\text{Face Card}) - P(\\\\text{Red AND Face Card})$\n",
        "      * $= \\\\frac{26}{52} + \\\\frac{12}{52} - \\\\frac{6}{52} = \\\\frac{32}{52} = \\\\frac{8}{13}$\n",
        "\n",
        "**C. Independent Events:**\n",
        "Two events are independent if the occurrence of one does not affect the probability of the other occurring.\n",
        "\n",
        "  * **Multiplication Rule for Independent Events:**\n",
        "      * $P(A \\\\text{ and } B) = P(A) \\* P(B)$\n",
        "\n",
        "**Example:** What is the probability of flipping a coin and getting Heads, AND then rolling a die and getting a '6'?\n",
        "\n",
        "  * $P(\\\\text{Heads}) = \\\\frac{1}{2}$\n",
        "  * $P(\\\\text{rolling a 6}) = \\\\frac{1}{6}$\n",
        "  * These events are independent.\n",
        "  * $P(\\\\text{Heads AND 6}) = P(\\\\text{Heads}) \\* P(\\\\text{rolling a 6}) = \\\\frac{1}{2} \\* \\\\frac{1}{6} = \\\\frac{1}{12}$\n",
        "\n",
        "**D. Dependent Events & Conditional Probability:**\n",
        "Two events are dependent if the occurrence of one *does* affect the probability of the other occurring.\n",
        "\n",
        "  * **Conditional Probability:** The probability of event A occurring, *given that* event B has already occurred.\n",
        "      * $P(A | B) = \\\\frac{P(A \\\\text{ and } B)}{P(B)}$ (read as \"Probability of A given B\")\n",
        "      * This formula can be rearranged to form the **General Multiplication Rule for Dependent Events:**\n",
        "          * $P(A \\\\text{ and } B) = P(A | B) \\* P(B)$\n",
        "\n",
        "**Example:** Drawing two cards from a deck *without replacement*. What is the probability of drawing a King, then drawing another King?\n",
        "\n",
        "  * $P(\\\\text{1st King}) = \\\\frac{4}{52}$\n",
        "  * After drawing one King, there are 3 Kings left and 51 cards total.\n",
        "  * $P(\\\\text{2nd King | 1st King}) = \\\\frac{3}{51}$\n",
        "  * $P(\\\\text{1st King AND 2nd King}) = P(\\\\text{1st King}) \\* P(\\\\text{2nd King | 1st King})$\n",
        "      * $= \\\\frac{4}{52} \\* \\\\frac{3}{51} = \\\\frac{12}{2652} = \\\\frac{1}{221}$\n",
        "\n",
        "-----\n",
        "\n",
        "#### **6.2.4 Bayes' Theorem**\n",
        "\n",
        "Bayes' Theorem describes the probability of an event, based on prior knowledge of conditions that might be related to the event. It is fundamental to machine learning algorithms like Naive Bayes and forms the basis for Bayesian inference.\n",
        "\n",
        "  * **Formula:**\n",
        "    $P(A | B) = \\\\frac{P(B | A) \\\\cdot P(A)}{P(B)}$\n",
        "\n",
        "Where:\n",
        "\n",
        "  * $P(A | B)$: **Posterior Probability** - The probability of event A occurring given that event B has occurred. This is what we want to find.\n",
        "  * $P(B | A)$: **Likelihood** - The probability of event B occurring given that event A has occurred.\n",
        "  * $P(A)$: **Prior Probability** - The initial probability of event A occurring before considering event B.\n",
        "  * $P(B)$: **Marginal Probability (Evidence)** - The total probability of event B occurring. This can often be calculated as $P(B) = P(B | A)P(A) + P(B | A')P(A')$, where $A'$ is the complement of A.\n",
        "\n",
        "**Intuition:** Bayes' Theorem updates our belief about an event (A) after observing new evidence (B). It tells us how to rationally update our prior probability ($P(A)$) to a posterior probability ($P(A|B)$) based on the observed data.\n",
        "\n",
        "**Example (Medical Diagnosis):**\n",
        "Let's say a certain disease (D) affects 1% of the population ($P(D) = 0.01$).\n",
        "There's a diagnostic test for this disease.\n",
        "\n",
        "  * The test is 95% accurate if you have the disease (true positive rate): $P(\\\\text{Positive} | D) = 0.95$.\n",
        "  * The test has a 10% false positive rate (i.e., tests positive even if you don't have the disease): $P(\\\\text{Positive} | D') = 0.10$.\n",
        "\n",
        "Now, you test positive. What is the probability that you actually have the disease ($P(D | \\\\text{Positive})$)?\n",
        "\n",
        "  * We know:\n",
        "\n",
        "      * $P(D) = 0.01$ (Prior probability of having the disease)\n",
        "      * $P(D') = 1 - P(D) = 0.99$ (Prior probability of not having the disease)\n",
        "      * $P(\\\\text{Positive} | D) = 0.95$ (Likelihood of positive test if diseased)\n",
        "      * $P(\\\\text{Positive} | D') = 0.10$ (Likelihood of positive test if not diseased - false positive)\n",
        "\n",
        "  * We need to find $P(\\\\text{Positive})$ (Marginal Probability of a positive test).\n",
        "\n",
        "      * $P(\\\\text{Positive}) = P(\\\\text{Positive} | D)P(D) + P(\\\\text{Positive} | D')P(D')$\n",
        "      * $P(\\\\text{Positive}) = (0.95)(0.01) + (0.10)(0.99)$\n",
        "      * $P(\\\\text{Positive}) = 0.0095 + 0.099 = 0.1085$\n",
        "\n",
        "  * Now, apply Bayes' Theorem:\n",
        "    $P(D | \\\\text{Positive}) = \\\\frac{P(\\\\text{Positive} | D) \\\\cdot P(D)}{P(\\\\text{Positive})}$\n",
        "    $P(D | \\\\text{Positive}) = \\\\frac{0.95 \\\\cdot 0.01}{0.1085}$\n",
        "    $P(D | \\\\text{Positive}) \\\\approx 0.0875$ or **8.75%**\n",
        "\n",
        "**Interpretation:** Even with a positive test result, the probability of actually having the disease is only about 8.75%. This is because the disease is very rare ($P(D)=0.01$), and the false positive rate ($P(\\\\text{Positive} | D')=0.10$) is relatively high compared to the disease prevalence. This highlights the importance of considering prior probabilities.\n",
        "\n"
      ],
      "metadata": {
        "id": "Te_3PqL-8Mke"
      }
    },
    {
      "cell_type": "code",
      "source": [
        "import numpy as np\n",
        "import pandas as pd\n",
        "from collections import Counter # Useful for empirical probabilities\n"
      ],
      "metadata": {
        "id": "biyf4Vi46P2U"
      },
      "execution_count": 5,
      "outputs": []
    },
    {
      "cell_type": "markdown",
      "source": [
        "**A. Simulating Coin Flips (Empirical Probability):**"
      ],
      "metadata": {
        "id": "frtX5tQg8668"
      }
    },
    {
      "cell_type": "code",
      "source": [
        "# Simulate flipping a fair coin 1000 times\n",
        "num_flips = 1000\n",
        "outcomes = np.random.choice(['Heads', 'Tails'], size=num_flips, p=[0.5, 0.5])\n",
        "\n",
        "# Count occurrences\n",
        "counts = Counter(outcomes)\n",
        "print(f\"Counts of outcomes after {num_flips} flips: {counts}\")\n",
        "\n",
        "# Calculate empirical probabilities\n",
        "prob_heads = counts['Heads'] / num_flips\n",
        "prob_tails = counts['Tails'] / num_flips\n",
        "\n",
        "print(f\"Empirical Probability of Heads: {prob_heads:.4f}\")\n",
        "print(f\"Empirical Probability of Tails: {prob_tails:.4f}\")\n",
        "\n",
        "# As num_flips increases, these empirical probabilities should approach the theoretical 0.5"
      ],
      "metadata": {
        "colab": {
          "base_uri": "https://localhost:8080/"
        },
        "id": "iol31WjV83_a",
        "outputId": "45346b60-d339-4c66-e0e0-bc3a0f07e87c"
      },
      "execution_count": 6,
      "outputs": [
        {
          "output_type": "stream",
          "name": "stdout",
          "text": [
            "Counts of outcomes after 1000 flips: Counter({np.str_('Heads'): 517, np.str_('Tails'): 483})\n",
            "Empirical Probability of Heads: 0.5170\n",
            "Empirical Probability of Tails: 0.4830\n"
          ]
        }
      ]
    },
    {
      "cell_type": "markdown",
      "source": [
        "**B. Simulating Die Rolls (Compound Events):**"
      ],
      "metadata": {
        "id": "VjS1h1he9Ce8"
      }
    },
    {
      "cell_type": "code",
      "source": [
        "# Simulate rolling two fair dice 10000 times\n",
        "num_rolls = 10000\n",
        "die1 = np.random.randint(1, 7, size=num_rolls)\n",
        "die2 = np.random.randint(1, 7, size=num_rolls)\n",
        "sums = die1 + die2\n",
        "\n",
        "# Calculate theoretical probability of rolling a sum of 7\n",
        "# Possible ways to get 7: (1,6), (2,5), (3,4), (4,3), (5,2), (6,1) -> 6 ways\n",
        "# Total outcomes for two dice: 6 * 6 = 36 ways\n",
        "theoretical_prob_7 = 6 / 36\n",
        "print(f\"\\nTheoretical Probability of sum = 7: {theoretical_prob_7:.4f}\")\n",
        "\n",
        "# Calculate empirical probability of rolling a sum of 7\n",
        "empirical_prob_7 = np.sum(sums == 7) / num_rolls\n",
        "print(f\"Empirical Probability of sum = 7: {empirical_prob_7:.4f}\")\n",
        "\n",
        "# Example of P(sum is even OR sum is > 8) - Non-mutually exclusive\n",
        "is_even = (sums % 2 == 0)\n",
        "is_greater_than_8 = (sums > 8)\n",
        "\n",
        "prob_even = np.sum(is_even) / num_rolls\n",
        "prob_gt_8 = np.sum(is_greater_than_8) / num_rolls\n",
        "prob_even_and_gt_8 = np.sum(is_even & is_greater_than_8) / num_rolls\n",
        "\n",
        "prob_even_or_gt_8_empirical = prob_even + prob_gt_8 - prob_even_and_gt_8\n",
        "print(f\"\\nEmpirical P(sum is even OR sum > 8): {prob_even_or_gt_8_empirical:.4f}\")"
      ],
      "metadata": {
        "colab": {
          "base_uri": "https://localhost:8080/"
        },
        "id": "QM22Wg3q8-vE",
        "outputId": "aac48a1b-3bea-4d42-cae9-497e3ddcc650"
      },
      "execution_count": 7,
      "outputs": [
        {
          "output_type": "stream",
          "name": "stdout",
          "text": [
            "\n",
            "Theoretical Probability of sum = 7: 0.1667\n",
            "Empirical Probability of sum = 7: 0.1714\n",
            "\n",
            "Empirical P(sum is even OR sum > 8): 0.6608\n"
          ]
        }
      ]
    },
    {
      "cell_type": "markdown",
      "source": [
        "**C. Implementing Bayes' Theorem in Python:**\n",
        "\n",
        "Let's re-run the medical diagnosis example."
      ],
      "metadata": {
        "id": "czzxm5o09K7l"
      }
    },
    {
      "cell_type": "code",
      "source": [
        "# Define probabilities from the example\n",
        "P_D = 0.01  # Prior probability of having the disease\n",
        "P_not_D = 1 - P_D # Prior probability of not having the disease\n",
        "\n",
        "P_Pos_given_D = 0.95 # Likelihood of positive test given disease (true positive)\n",
        "P_Pos_given_not_D = 0.10 # Likelihood of positive test given no disease (false positive)\n",
        "\n",
        "# Calculate P(Positive) - Marginal Probability of a positive test\n",
        "# P(Positive) = P(Positive | D)P(D) + P(Positive | D')P(D')\n",
        "P_Positive = (P_Pos_given_D * P_D) + (P_Pos_given_not_D * P_not_D)\n",
        "print(f\"\\nMarginal Probability of a Positive test: {P_Positive:.4f}\")\n",
        "\n",
        "# Apply Bayes' Theorem to find P(D | Positive) - Posterior Probability\n",
        "P_D_given_Pos = (P_Pos_given_D * P_D) / P_Positive\n",
        "print(f\"Probability of having the disease given a positive test (P(D|Pos)): {P_D_given_Pos:.4f}\")\n",
        "\n",
        "# Advanced: A slightly different scenario\n",
        "# Suppose a new test is 99% accurate (true positive) and has only a 1% false positive rate.\n",
        "new_P_Pos_given_D = 0.99\n",
        "new_P_Pos_given_not_D = 0.01\n",
        "\n",
        "new_P_Positive = (new_P_Pos_given_D * P_D) + (new_P_Pos_given_not_D * P_not_D)\n",
        "new_P_D_given_Pos = (new_P_Pos_given_D * P_D) / new_P_Positive\n",
        "print(f\"\\n--- With a new, better test ---\")\n",
        "print(f\"New Marginal Probability of a Positive test: {new_P_Positive:.4f}\")\n",
        "print(f\"Probability of having disease given positive test (New Test): {new_P_D_given_Pos:.4f}\")\n",
        "# Notice how the probability of actually having the disease given a positive test increases significantly\n",
        "# with a lower false positive rate, even if the disease is rare."
      ],
      "metadata": {
        "colab": {
          "base_uri": "https://localhost:8080/"
        },
        "id": "Rkm__a8r9Eyz",
        "outputId": "ac918c9d-551f-49b1-9921-f20de92e5af8"
      },
      "execution_count": 8,
      "outputs": [
        {
          "output_type": "stream",
          "name": "stdout",
          "text": [
            "\n",
            "Marginal Probability of a Positive test: 0.1085\n",
            "Probability of having the disease given a positive test (P(D|Pos)): 0.0876\n",
            "\n",
            "--- With a new, better test ---\n",
            "New Marginal Probability of a Positive test: 0.0198\n",
            "Probability of having disease given positive test (New Test): 0.5000\n"
          ]
        }
      ]
    },
    {
      "cell_type": "markdown",
      "source": [
        "-----\n",
        "\n",
        "#### **Exercises & Practice **\n",
        "\n",
        "**Exercise 6.2.1: Analyzing Customer Churn Probability**\n",
        "\n",
        "A marketing team states that 20% of their customers are at risk of churn ($P(\\\\text{Churn}) = 0.20$).\n",
        "They developed a model that predicts churn.\n",
        "\n",
        "  * The model correctly identifies 75% of churning customers ($P(\\\\text{Predict Churn} | \\\\text{Churn}) = 0.75$).\n",
        "  * The model incorrectly predicts churn for 15% of non-churning customers ($P(\\\\text{Predict Churn} | \\\\text{No Churn}) = 0.15$).\n",
        "\n",
        "<!-- end list -->\n",
        "\n",
        "1.  What is the prior probability of a customer *not* churning? ($P(\\\\text{No Churn})$)\n",
        "2.  What is the marginal probability that the model predicts churn for any given customer? ($P(\\\\text{Predict Churn})$)\n",
        "3.  Using Bayes' Theorem, if the model predicts that a customer will churn, what is the actual probability that they *will* churn? ($P(\\\\text{Churn} | \\\\text{Predict Churn})$)\n",
        "4.  Interpret your result from step 3. Is the model's prediction highly reliable?\n",
        "-----\n",
        "\n",
        "**2: Conditional Probability with Tabular Data**\n",
        "\n",
        "Consider the following hypothetical data on 100 individuals regarding their preferred mode of transport and income level:\n",
        "\n",
        "|                 | Low Income | Medium Income | High Income | Total |\n",
        "| :-------------- | :--------- | :------------ | :---------- | :---- |\n",
        "| **Car** | 10         | 25            | 15          | 50    |\n",
        "| **Public Transit** | 20         | 10            | 5           | 35    |\n",
        "| **Bicycle** | 5          | 5             | 5           | 15    |\n",
        "| **Total** | 35         | 40            | 25          | 100   |\n",
        "\n",
        "1.  Create a Pandas DataFrame to represent this data.\n",
        "2.  What is the probability that a randomly selected person prefers 'Public Transit'? ($P(\\\\text{Public Transit})$)\n",
        "3.  What is the probability that a randomly selected person has 'High Income'? ($P(\\\\text{High Income})$)\n",
        "4.  What is the probability that a person prefers 'Car' AND has 'Low Income'? ($P(\\\\text{Car and Low Income})$)\n",
        "5.  What is the probability that a person prefers 'Public Transit' GIVEN that they have 'Low Income'? ($P(\\\\text{Public Transit} | \\\\text{Low Income})$)\n",
        "6.  Are the events 'prefers Car' and 'has High Income' independent? Justify your answer using probabilities. (Hint: Check if $P(A \\\\text{ and } B) = P(A) \\* P(B)$ or $P(A | B) = P(A)$).\n",
        "\n",
        "<!-- end list -->"
      ],
      "metadata": {
        "id": "P8cAxCFV9Sgi"
      }
    },
    {
      "cell_type": "markdown",
      "source": [
        "##  6.3 Probability Distributions (Normal, Binomial, Poisson)"
      ],
      "metadata": {
        "id": "4S1xriBF91zl"
      }
    },
    {
      "cell_type": "markdown",
      "source": [
        "Random Variables: Discrete vs. Continuous**\n",
        "\n",
        "Before diving into specific distributions, it's crucial to understand random variables:\n",
        "\n",
        "  * **Random Variable (RV):** A variable whose value is the outcome of a random phenomenon.\n",
        "  * **Discrete Random Variable:** A random variable that can take on a finite or countably infinite number of values (e.g., number of heads in 3 coin flips, number of defects in a batch). Its probabilities are described by a **Probability Mass Function (PMF)**.\n",
        "  * **Continuous Random Variable:** A random variable that can take on any value within a given range (e.g., height of a person, temperature). Its probabilities are described by a **Probability Density Function (PDF)**. For continuous variables, the probability of any *exact* single value is 0; we calculate probabilities over intervals.\n",
        "\n",
        "-----\n",
        "\n",
        "#### **6.3.2 Binomial Distribution**\n",
        "\n",
        "The Binomial distribution models the number of successes in a fixed number of independent Bernoulli trials (an experiment with only two possible outcomes: success or failure).\n",
        "\n",
        "**Characteristics:**\n",
        "\n",
        "  * **Fixed number of trials (n):** The experiment is repeated a set number of times.\n",
        "  * **Two possible outcomes per trial:** \"Success\" (S) or \"Failure\" (F).\n",
        "  * **Independent trials:** The outcome of one trial does not affect the outcome of others.\n",
        "  * **Constant probability of success (p):** The probability of success remains the same for each trial. The probability of failure is $q = 1 - p$.\n",
        "\n",
        "**Notation:** $X \\\\sim B(n, p)$ (X follows a Binomial distribution with n trials and probability p of success).\n",
        "\n",
        "**Probability Mass Function (PMF):**\n",
        "$P(X=k) = C(n, k) \\\\cdot p^k \\\\cdot (1-p)^{(n-k)}$\n",
        "Where:\n",
        "\n",
        "  * $P(X=k)$: Probability of getting exactly $k$ successes.\n",
        "  * $C(n, k)$ (or $\\\\binom{n}{k}$): The binomial coefficient, representing \"n choose k\", which is the number of ways to choose k successes from n trials. $C(n, k) = \\\\frac{n\\!}{k\\!(n-k)\\!}$\n",
        "  * $p^k$: Probability of $k$ successes.\n",
        "  * $(1-p)^{(n-k)}$: Probability of $n-k$ failures.\n",
        "\n",
        "**Mean (Expected Value):** $E(X) = n \\\\cdot p$\n",
        "**Variance:** $Var(X) = n \\\\cdot p \\\\cdot (1-p)$\n",
        "\n",
        "**Example:** Flipping a fair coin 10 times. What is the probability of getting exactly 7 heads?\n",
        "\n",
        "  * $n = 10$ (number of flips)\n",
        "  * $p = 0.5$ (probability of getting a head)\n",
        "  * $k = 7$ (number of successes)\n",
        "\n",
        "-----\n",
        "\n",
        "#### **6.3.3 Poisson Distribution**\n",
        "\n",
        "The Poisson distribution models the number of events occurring in a fixed interval of time or space, given a known average rate of occurrence and that these events occur independently.\n",
        "\n",
        "**Characteristics:**\n",
        "\n",
        "  * Events occur independently.\n",
        "  * The rate of occurrence ($\\\\lambda$, lambda) is constant over the interval.\n",
        "  * The probability of an event occurring in a small interval is proportional to the length of the interval.\n",
        "  * Events cannot occur simultaneously.\n",
        "\n",
        "**Notation:** $X \\\\sim P(\\\\lambda)$ (X follows a Poisson distribution with average rate $\\\\lambda$).\n",
        "\n",
        "**Probability Mass Function (PMF):**\n",
        "$P(X=k) = \\\\frac{e^{-\\\\lambda} \\\\cdot \\\\lambda^k}{k\\!}$\n",
        "Where:\n",
        "\n",
        "  * $P(X=k)$: Probability of exactly $k$ events occurring.\n",
        "  * $e$: Euler's number (approximately 2.71828).\n",
        "  * $\\\\lambda$: The average number of events in the given interval (also the mean and variance of the distribution).\n",
        "  * $k\\!$: Factorial of $k$.\n",
        "\n",
        "**Mean (Expected Value):** $E(X) = \\\\lambda$\n",
        "**Variance:** $Var(X) = \\\\lambda$\n",
        "\n",
        "**Example:** A call center receives an average of 5 calls per hour ($\\\\lambda = 5$). What is the probability of receiving exactly 3 calls in the next hour?\n",
        "\n",
        "-----\n",
        "\n",
        "#### **6.3.4 Normal (Gaussian) Distribution**\n",
        "\n",
        "The Normal distribution is arguably the most important and widely used probability distribution in statistics. It is a continuous probability distribution that is symmetric around its mean, forming a \"bell curve.\" Many natural phenomena and statistical samples tend to follow a normal distribution.\n",
        "\n",
        "**Characteristics:**\n",
        "\n",
        "  * **Symmetric:** The curve is perfectly symmetrical around its mean.\n",
        "  * **Bell-shaped:** The graph has a distinctive bell shape.\n",
        "  * **Mean, Median, Mode are Equal:** All three measures of central tendency coincide at the center of the distribution.\n",
        "  * **Asymptotic:** The tails of the curve extend infinitely in both directions, never quite touching the x-axis.\n",
        "  * **Defined by two parameters:** Mean ($\\\\mu$) and Standard Deviation ($\\\\sigma$).\n",
        "\n",
        "**Notation:** $X \\\\sim N(\\\\mu, \\\\sigma^2)$ (X follows a Normal distribution with mean $\\\\mu$ and variance $\\\\sigma^2$).\n",
        "\n",
        "**Probability Density Function (PDF):**\n",
        "$f(x) = \\\\frac{1}{\\\\sigma \\\\sqrt{2\\\\pi}} \\\\cdot e^{-\\\\frac{1}{2}(\\\\frac{x-\\\\mu}{\\\\sigma})^2}$\n",
        "\n",
        "  * Note: For a continuous distribution, $f(x)$ is not a probability itself. The probability of an event falling within a range is the area under the curve between two points.\n",
        "\n",
        "**Standard Normal Distribution (Z-distribution):**\n",
        "A special case of the Normal distribution with a mean ($\\\\mu$) of 0 and a standard deviation ($\\\\sigma$) of 1. Any normal distribution can be transformed into a standard normal distribution using the Z-score formula.\n",
        "\n",
        "  * **Z-score:** $Z = \\\\frac{x - \\\\mu}{\\\\sigma}$\n",
        "      * The Z-score tells us how many standard deviations an observation ($x$) is away from the mean ($\\\\mu$). This standardization allows us to compare values from different normal distributions.\n",
        "\n",
        "**The Empirical Rule (68-95-99.7 Rule):**\n",
        "For a normal distribution:\n",
        "\n",
        "  * Approximately **68%** of the data falls within 1 standard deviation ($\\\\pm 1\\\\sigma$) of the mean.\n",
        "  * Approximately **95%** of the data falls within 2 standard deviations ($\\\\pm 2\\\\sigma$) of the mean.\n",
        "  * Approximately **99.7%** of the data falls within 3 standard deviations ($\\\\pm 3\\\\sigma$) of the mean.\n",
        "\n",
        "**Importance:**\n",
        "\n",
        "  * Many natural phenomena (heights, blood pressure, measurement errors) are approximately normally distributed.\n",
        "  * It's a foundational distribution for inferential statistics (e.g., hypothesis testing, confidence intervals).\n",
        "  * Crucially, the **Central Limit Theorem (CLT)** states that the sampling distribution of the sample mean (or sum) of a large number of independent, identically distributed random variables will be approximately normal, *regardless of the original distribution of the population*. This is vital for hypothesis testing.\n",
        "\n",
        "-----\n",
        "\n",
        "#### **6.3.5 Central Limit Theorem (CLT)**\n",
        "\n",
        "**Concept:**\n",
        "The Central Limit Theorem is one of the most powerful and fundamental theorems in statistics. It states that if you take sufficiently large random samples from *any* population (regardless of its distribution), the distribution of the sample means (or sums) will be approximately normally distributed.\n",
        "\n",
        "**Key Implications:**\n",
        "\n",
        "  * **Applicability to diverse data:** Even if your original data is highly skewed or non-normal, the distribution of sample means will tend towards normality as sample size increases.\n",
        "  * **Foundation for Inference:** It allows us to use normal distribution properties (like Z-scores and confidence intervals) to make inferences about population parameters, even when the population distribution is unknown.\n",
        "  * **Sample Size Matters:** The approximation to normality improves as the sample size ($n$) increases. A common rule of thumb is $n \\\\ge 30$, though it can be smaller for distributions already close to normal, and larger for very skewed distributions.\n",
        "\n",
        "**Example:** Imagine a population of customer spending that is highly skewed (most customers spend little, a few spend a lot). If you repeatedly take samples of 30 customer spending records, calculate the mean spending for each sample, and plot those means, the distribution of *these sample means* will resemble a normal distribution.\n"
      ],
      "metadata": {
        "id": "ysVrKxjy-IZE"
      }
    },
    {
      "cell_type": "code",
      "source": [
        "import numpy as np\n",
        "import pandas as pd\n",
        "import matplotlib.pyplot as plt\n",
        "import seaborn as sns\n",
        "from scipy.stats import binom, poisson, norm # Import specific distributions\n",
        "\n",
        "# Set a style for plots\n",
        "sns.set_style(\"whitegrid\")\n",
        "plt.rcParams['figure.figsize'] = (10, 6) # Default plot size\n"
      ],
      "metadata": {
        "id": "hh0kFOwp9PNC"
      },
      "execution_count": 9,
      "outputs": []
    },
    {
      "cell_type": "markdown",
      "source": [
        "**A. Binomial Distribution Example:**\n",
        "\n",
        "Let's say a manufacturer knows that 5% of their products are defective ($p=0.05$). If they randomly select a batch of 20 products ($n=20$), what's the probability of finding exactly 2 defective products?"
      ],
      "metadata": {
        "id": "SJIfjTAG-WG2"
      }
    },
    {
      "cell_type": "code",
      "source": [
        "n_binom = 20  # Number of trials (products)\n",
        "p_binom = 0.05 # Probability of success (defective product)\n",
        "k_binom = 2   # Number of successes (defective products)\n",
        "\n",
        "# Calculate PMF: P(X=k)\n",
        "prob_2_defective = binom.pmf(k_binom, n_binom, p_binom)\n",
        "print(f\"Probability of exactly {k_binom} defective products: {prob_2_defective:.4f}\")\n",
        "\n",
        "# Calculate probability of 0 to 2 defective products (CDF)\n",
        "prob_at_most_2_defective = binom.cdf(k_binom, n_binom, p_binom)\n",
        "print(f\"Probability of at most {k_binom} defective products: {prob_at_most_2_defective:.4f}\")\n",
        "\n",
        "# Generate random samples from a Binomial distribution\n",
        "random_samples_binom = binom.rvs(n_binom, p_binom, size=1000)\n",
        "print(f\"\\nFirst 10 random samples (number of defectives in 20 products): {random_samples_binom[:10]}\")\n",
        "\n",
        "# Visualize the Binomial PMF\n",
        "k_values = np.arange(0, n_binom + 1)\n",
        "pmf_values = binom.pmf(k_values, n_binom, p_binom)\n",
        "\n",
        "plt.figure(figsize=(10, 5))\n",
        "plt.bar(k_values, pmf_values, color='skyblue')\n",
        "plt.title(f'Binomial Distribution (n={n_binom}, p={p_binom})')\n",
        "plt.xlabel('Number of Successes (k)')\n",
        "plt.ylabel('Probability')\n",
        "plt.xticks(k_values)\n",
        "plt.show()"
      ],
      "metadata": {
        "colab": {
          "base_uri": "https://localhost:8080/",
          "height": 560
        },
        "id": "tpDJfc8i-SyU",
        "outputId": "352cf285-65d5-43a0-b354-de0003867c41"
      },
      "execution_count": 10,
      "outputs": [
        {
          "output_type": "stream",
          "name": "stdout",
          "text": [
            "Probability of exactly 2 defective products: 0.1887\n",
            "Probability of at most 2 defective products: 0.9245\n",
            "\n",
            "First 10 random samples (number of defectives in 20 products): [0 1 1 1 1 1 0 1 1 0]\n"
          ]
        },
        {
          "output_type": "display_data",
          "data": {
            "text/plain": [
              "<Figure size 1000x500 with 1 Axes>"
            ],
            "image/png": "[encoded data removed]"
          },
          "metadata": {}
        }
      ]
    },
    {
      "cell_type": "markdown",
      "source": [
        "**B. Poisson Distribution Example:**\n",
        "\n",
        "A website typically receives 7 new users per hour on average ($\\\\lambda=7$). What is the probability of receiving exactly 10 new users in the next hour?"
      ],
      "metadata": {
        "id": "ha6i8NC7-d0_"
      }
    },
    {
      "cell_type": "code",
      "source": [
        "lambda_poisson = 7 # Average number of events per interval\n",
        "k_poisson = 10     # Number of events we are interested in\n",
        "\n",
        "# Calculate PMF: P(X=k)\n",
        "prob_10_users = poisson.pmf(k_poisson, lambda_poisson)\n",
        "print(f\"Probability of exactly {k_poisson} new users: {prob_10_users:.4f}\")\n",
        "\n",
        "# Calculate probability of at most 5 users (CDF)\n",
        "prob_at_most_5_users = poisson.cdf(5, lambda_poisson)\n",
        "print(f\"Probability of at most 5 new users: {prob_at_most_5_users:.4f}\")\n",
        "\n",
        "# Generate random samples from a Poisson distribution\n",
        "random_samples_poisson = poisson.rvs(lambda_poisson, size=1000)\n",
        "print(f\"\\nFirst 10 random samples (number of users per hour): {random_samples_poisson[:10]}\")\n",
        "\n",
        "# Visualize the Poisson PMF\n",
        "k_values_poisson = np.arange(0, 20) # A reasonable range for k\n",
        "pmf_values_poisson = poisson.pmf(k_values_poisson, lambda_poisson)\n",
        "\n",
        "plt.figure(figsize=(10, 5))\n",
        "plt.bar(k_values_poisson, pmf_values_poisson, color='lightcoral')\n",
        "plt.title(f'Poisson Distribution (λ={lambda_poisson})')\n",
        "plt.xlabel('Number of Events (k)')\n",
        "plt.ylabel('Probability')\n",
        "plt.xticks(np.arange(0, 20, 2))\n",
        "plt.show()"
      ],
      "metadata": {
        "colab": {
          "base_uri": "https://localhost:8080/",
          "height": 560
        },
        "id": "_msCrfBT-Z1L",
        "outputId": "c457f7a5-0d45-475a-9163-b9635c1fc629"
      },
      "execution_count": 11,
      "outputs": [
        {
          "output_type": "stream",
          "name": "stdout",
          "text": [
            "Probability of exactly 10 new users: 0.0710\n",
            "Probability of at most 5 new users: 0.3007\n",
            "\n",
            "First 10 random samples (number of users per hour): [9 1 4 9 6 7 9 7 8 9]\n"
          ]
        },
        {
          "output_type": "display_data",
          "data": {
            "text/plain": [
              "<Figure size 1000x500 with 1 Axes>"
            ],
            "image/png": "[encoded data removed]"
          },
          "metadata": {}
        }
      ]
    },
    {
      "cell_type": "markdown",
      "source": [
        "**C. Normal Distribution Example:**\n",
        "\n",
        "The heights of adult males are normally distributed with a mean of 175 cm ($\\\\mu=175$) and a standard deviation of 7 cm ($\\\\sigma=7$).\n",
        "\n",
        "1.  What is the probability that a randomly selected male is taller than 185 cm?\n",
        "2.  What is the height below which 90% of males fall?\n"
      ],
      "metadata": {
        "id": "sXBZM0hj-nhf"
      }
    },
    {
      "cell_type": "code",
      "source": [
        "mu_normal = 175 # Mean height\n",
        "sigma_normal = 7  # Standard deviation\n",
        "\n",
        "# 1. Probability of being taller than 185 cm\n",
        "# Use `sf` (survival function) which is 1 - CDF, P(X > x)\n",
        "prob_taller_than_185 = norm.sf(185, mu_normal, sigma_normal)\n",
        "print(f\"Probability of being taller than 185 cm: {prob_taller_than_185:.4f}\")\n",
        "\n",
        "# Alternatively, using CDF: P(X > x) = 1 - P(X <= x)\n",
        "prob_taller_than_185_cdf_method = 1 - norm.cdf(185, mu_normal, sigma_normal)\n",
        "print(f\"Probability (CDF method): {prob_taller_than_185_cdf_method:.4f}\")\n",
        "\n",
        "# 2. Height below which 90% of males fall (Inverse CDF or PPF - Percent Point Function)\n",
        "height_90th_percentile = norm.ppf(0.90, mu_normal, sigma_normal)\n",
        "print(f\"Height below which 90% of males fall: {height_90th_percentile:.2f} cm\")\n",
        "\n",
        "# Generate random samples from a Normal distribution\n",
        "random_samples_normal = norm.rvs(mu_normal, sigma_normal, size=1000)\n",
        "print(f\"\\nFirst 10 random samples (heights in cm): {random_samples_normal[:10].round(2)}\")\n",
        "\n",
        "# Visualize the Normal PDF\n",
        "x_values_normal = np.linspace(mu_normal - 3*sigma_normal, mu_normal + 3*sigma_normal, 100)\n",
        "pdf_values_normal = norm.pdf(x_values_normal, mu_normal, sigma_normal)\n",
        "\n",
        "plt.figure(figsize=(10, 5))\n",
        "plt.plot(x_values_normal, pdf_values_normal, color='mediumseagreen')\n",
        "plt.fill_between(x_values_normal, 0, pdf_values_normal, color='mediumseagreen', alpha=0.1) # Shaded area\n",
        "plt.title(f'Normal Distribution (μ={mu_normal}, σ={sigma_normal})')\n",
        "plt.xlabel('Height (cm)')\n",
        "plt.ylabel('Probability Density')\n",
        "plt.axvline(mu_normal, color='red', linestyle='--', label=f'Mean (μ) = {mu_normal}')\n",
        "plt.show()\n",
        "\n",
        "# Demonstrate Z-score\n",
        "x_value_z = 185\n",
        "z_score = (x_value_z - mu_normal) / sigma_normal\n",
        "print(f\"Z-score for a height of {x_value_z} cm: {z_score:.2f}\")\n",
        "# This means 185 cm is 1.43 standard deviations above the mean."
      ],
      "metadata": {
        "colab": {
          "base_uri": "https://localhost:8080/",
          "height": 597
        },
        "id": "XA5KPQaJ-j0R",
        "outputId": "0b998c92-738e-46bd-e80f-4dc81f849f0b"
      },
      "execution_count": 13,
      "outputs": [
        {
          "output_type": "stream",
          "name": "stdout",
          "text": [
            "Probability of being taller than 185 cm: 0.0766\n",
            "Probability (CDF method): 0.0766\n",
            "Height below which 90% of males fall: 183.97 cm\n",
            "\n",
            "First 10 random samples (heights in cm): [183.14 176.01 182.43 166.19 177.79 169.2  175.98 185.95 168.81 179.51]\n"
          ]
        },
        {
          "output_type": "display_data",
          "data": {
            "text/plain": [
              "<Figure size 1000x500 with 1 Axes>"
            ],
            "image/png": "[encoded data removed]"
          },
          "metadata": {}
        },
        {
          "output_type": "stream",
          "name": "stdout",
          "text": [
            "Z-score for a height of 185 cm: 1.43\n"
          ]
        }
      ]
    },
    {
      "cell_type": "markdown",
      "source": [
        "**D. Central Limit Theorem Demonstration:**\n",
        "\n",
        "We'll simulate the rolling of a single die (which is a uniform distribution) and show that the distribution of sample means approaches normality."
      ],
      "metadata": {
        "id": "Z9H9gS-b-03k"
      }
    },
    {
      "cell_type": "code",
      "source": [
        "# Population: Outcomes of a single die roll (uniform distribution)\n",
        "population = np.array([1, 2, 3, 4, 5, 6])\n",
        "population_mean = np.mean(population)\n",
        "population_std = np.std(population)\n",
        "\n",
        "print(f\"Population (single die) Mean: {population_mean}\")\n",
        "print(f\"Population (single die) Std Dev: {population_std:.2f}\")\n",
        "\n",
        "# Parameters for CLT demonstration\n",
        "sample_size = 30 # Number of rolls in each sample\n",
        "num_samples = 1000 # Number of times we take a sample and calculate its mean\n",
        "\n",
        "# Collect sample means\n",
        "sample_means = []\n",
        "for _ in range(num_samples):\n",
        "    sample = np.random.choice(population, size=sample_size, replace=True)\n",
        "    sample_means.append(np.mean(sample))\n",
        "\n",
        "# Convert to a Pandas Series for easy plotting and description\n",
        "sample_means_series = pd.Series(sample_means)\n",
        "\n",
        "print(f\"\\nMean of Sample Means: {sample_means_series.mean():.2f}\")\n",
        "print(f\"Std Dev of Sample Means (Standard Error): {sample_means_series.std():.2f}\")\n",
        "# Theoretical standard error of the mean = population_std / sqrt(sample_size)\n",
        "theoretical_se = population_std / np.sqrt(sample_size)\n",
        "print(f\"Theoretical Standard Error: {theoretical_se:.2f}\")\n",
        "\n",
        "# Plot the distribution of sample means\n",
        "plt.figure(figsize=(10, 6))\n",
        "sns.histplot(sample_means_series, bins=20, kde=True, color='purple')\n",
        "plt.title(f'Distribution of Sample Means (N={sample_size}, {num_samples} samples) - CLT Demo')\n",
        "plt.xlabel('Sample Mean')\n",
        "plt.ylabel('Frequency')\n",
        "plt.axvline(population_mean, color='red', linestyle='--', label=f'Population Mean = {population_mean}')\n",
        "plt.legend()\n",
        "plt.show()\n",
        "\n",
        "print(\"\\nObservation: Even though the original die roll distribution is uniform, the distribution of sample means is approximately normal, demonstrating the Central Limit Theorem.\")"
      ],
      "metadata": {
        "colab": {
          "base_uri": "https://localhost:8080/",
          "height": 730
        },
        "id": "2F6GFEdV-qz9",
        "outputId": "95ad99a0-5a0c-44ee-8ee3-104cf52382d0"
      },
      "execution_count": 14,
      "outputs": [
        {
          "output_type": "stream",
          "name": "stdout",
          "text": [
            "Population (single die) Mean: 3.5\n",
            "Population (single die) Std Dev: 1.71\n",
            "\n",
            "Mean of Sample Means: 3.49\n",
            "Std Dev of Sample Means (Standard Error): 0.31\n",
            "Theoretical Standard Error: 0.31\n"
          ]
        },
        {
          "output_type": "display_data",
          "data": {
            "text/plain": [
              "<Figure size 1000x600 with 1 Axes>"
            ],
            "image/png": "[encoded data removed]"
          },
          "metadata": {}
        },
        {
          "output_type": "stream",
          "name": "stdout",
          "text": [
            "\n",
            "Observation: Even though the original die roll distribution is uniform, the distribution of sample means is approximately normal, demonstrating the Central Limit Theorem.\n"
          ]
        }
      ]
    },
    {
      "cell_type": "markdown",
      "source": [
        "-----\n",
        "\n",
        "#### **Exercises & Practice (for Colab)**\n",
        "\n",
        "**Exercise 6.3.1: Analyzing Website Conversions (Binomial)**\n",
        "\n",
        "A digital marketing campaign has a historical conversion rate of 12% ($p=0.12$). If 50 new visitors ($n=50$) arrive at the landing page:\n",
        "\n",
        "1.  What is the probability that exactly 5 of them convert?\n",
        "2.  What is the probability that 10 or more visitors convert? (Hint: Use 1 - CDF)\n",
        "3.  Generate and visualize the probability distribution (PMF) for the number of conversions from 0 to 50 visitors.\n",
        "\n",
        "-----\n",
        "\n",
        "**2: Analyzing Customer Service Calls (Poisson & Normal Approximation)**\n",
        "\n",
        "A customer service center receives an average of 30 calls per hour ($\\\\lambda=30$).\n",
        "\n",
        "1.  What is the probability of receiving exactly 25 calls in the next hour? (Poisson)\n",
        "2.  What is the probability of receiving more than 35 calls in the next hour? (Poisson)\n",
        "3.  **Advanced:** For large $\\\\lambda$, the Poisson distribution can be approximated by a Normal distribution with mean $\\\\mu = \\\\lambda$ and variance $\\\\sigma^2 = \\\\lambda$. Use this normal approximation to estimate the probability of receiving more than 35 calls in the next hour. Compare this to the exact Poisson probability.\n",
        "4.  **Advanced:** Plot both the Poisson PMF (for k from 0 to 60) and the approximating Normal PDF on the same graph to visualize the approximation.\n"
      ],
      "metadata": {
        "id": "b_3IcRkQ-8wt"
      }
    },
    {
      "cell_type": "markdown",
      "source": [
        "## 6.4 Inferential Statistics: Hypothesis Testing, p-value"
      ],
      "metadata": {
        "id": "1CEYel6p_G0d"
      }
    },
    {
      "cell_type": "markdown",
      "source": [
        "#### **6.4.1 Introduction to Inferential Statistics**\n",
        "\n",
        "  * **Inferential Statistics:** The branch of statistics that uses sample data to make inferences, predictions, and draw conclusions about a larger population.\n",
        "  * **Why is it needed?** It's often impractical or impossible to collect data from an entire population. We rely on samples, but samples are subject to random variation. Inferential statistics provides a framework to account for this variation when generalizing from a sample to a population.\n",
        "  * **Key Concept:** We make assumptions about a population (hypotheses) and then use sample data to determine if those assumptions are likely to be true.\n",
        "\n",
        "-----\n",
        "\n",
        "#### **6.4.2 Hypothesis Testing: The Framework**\n",
        "\n",
        "Hypothesis testing is a formal procedure for using sample data to evaluate a claim or hypothesis about a population parameter.\n",
        "\n",
        "**Steps in Hypothesis Testing:**\n",
        "\n",
        "1.  **Formulate Hypotheses:**\n",
        "\n",
        "      * **Null Hypothesis ($H\\_0$):** A statement of no effect, no difference, or no relationship. It represents the status quo or the existing belief. We assume $H\\_0$ is true until evidence suggests otherwise.\n",
        "          * *Examples:* The new drug has no effect. There is no difference in mean scores between two groups.\n",
        "      * **Alternative Hypothesis ($H\\_1$ or $H\\_A$):** A statement that contradicts the null hypothesis. It's what we are trying to find evidence for.\n",
        "          * *Examples:* The new drug *does* have an effect. There *is* a difference in mean scores.\n",
        "          * **Types of $H\\_1$:**\n",
        "              * **Two-tailed:** $H\\_0: \\\\mu = \\\\mu\\_0$ vs. $H\\_1: \\\\mu \\\\neq \\\\mu\\_0$ (testing for any difference).\n",
        "              * **One-tailed (Left-tailed):** $H\\_0: \\\\mu \\\\ge \\\\mu\\_0$ vs. $H\\_1: \\\\mu \\< \\\\mu\\_0$ (testing for a decrease).\n",
        "              * **One-tailed (Right-tailed):** $H\\_0: \\\\mu \\\\le \\\\mu\\_0$ vs. $H\\_1: \\\\mu \\> \\\\mu\\_0$ (testing for an increase).\n",
        "\n",
        "2.  **Choose a Significance Level ($\\\\alpha$):**\n",
        "\n",
        "      * This is the probability of rejecting the null hypothesis when it is actually true (Type I error).\n",
        "      * Common values: 0.05 (5%), 0.01 (1%), 0.10 (10%).\n",
        "      * A lower $\\\\alpha$ means stronger evidence is needed to reject $H\\_0$.\n",
        "\n",
        "3.  **Select the Appropriate Test Statistic:**\n",
        "\n",
        "      * A value calculated from sample data that is used to decide whether to reject the null hypothesis. The choice depends on the type of data, the research question, and population knowledge (e.g., Z-statistic, t-statistic, Chi-square, F-statistic).\n",
        "      * The test statistic follows a known sampling distribution (e.g., Standard Normal, t-distribution) under the assumption that $H\\_0$ is true.\n",
        "\n",
        "4.  **Determine the p-value (or Critical Value):**\n",
        "\n",
        "      * **p-value:** The probability of observing a test statistic as extreme as, or more extreme than, the one calculated from the sample data, *assuming the null hypothesis is true*.\n",
        "      * A small p-value means the observed data is unlikely if $H\\_0$ were true, providing evidence against $H\\_0$.\n",
        "\n",
        "5.  **Make a Decision:**\n",
        "\n",
        "      * **If p-value $\\\\le \\\\alpha$:** Reject the null hypothesis. There is statistically significant evidence to support the alternative hypothesis.\n",
        "      * **If p-value $\\> \\\\alpha$:** Fail to reject the null hypothesis. There is not enough statistically significant evidence to support the alternative hypothesis.\n",
        "      * *Important Note:* Failing to reject $H\\_0$ does not mean $H\\_0$ is true; it simply means we don't have enough evidence to claim it's false.\n",
        "\n",
        "6.  **State the Conclusion:**\n",
        "\n",
        "      * Interpret the decision in the context of the original research question.\n",
        "\n",
        "-----\n",
        "\n",
        "#### **6.4.3 Types of Errors**\n",
        "\n",
        "In hypothesis testing, there are two types of errors we can make:\n",
        "\n",
        "|                     | **Actual Situation** |                     |\n",
        "| :------------------ | :-------------------------------- | :------------------ |\n",
        "|                     | $H\\_0$ is TRUE                     | $H\\_0$ is FALSE      |\n",
        "| **Decision** |                                   |                     |\n",
        "| **Fail to Reject $H\\_0$** | Correct Decision                  | **Type II Error** |\n",
        "| **Reject $H\\_0$** | **Type I Error ($\\\\alpha$)** | Correct Decision    |\n",
        "\n",
        "  * **Type I Error ($\\\\alpha$):** Rejecting the null hypothesis when it is actually true. (False Positive)\n",
        "      * The probability of a Type I error is equal to the significance level ($\\\\alpha$).\n",
        "      * *Example:* Concluding a drug has an effect when it actually doesn't.\n",
        "  * **Type II Error ($\\\\beta$):** Failing to reject the null hypothesis when it is actually false. (False Negative)\n",
        "      * *Example:* Concluding a drug has no effect when it actually does.\n",
        "  * **Power of the Test (1 - $\\\\beta$):** The probability of correctly rejecting a false null hypothesis. We generally want high power.\n",
        "\n",
        "There's a trade-off between Type I and Type II errors: decreasing $\\\\alpha$ (making it harder to reject $H\\_0$) increases $\\\\beta$ (making it harder to detect a true effect).\n",
        "\n",
        "-----\n",
        "\n",
        "#### **6.4.4 Test Statistics and Sampling Distributions**\n",
        "\n",
        "  * **Test Statistic:** A value derived from sample data used to test the hypothesis. Its magnitude indicates how far the sample result deviates from what is expected under $H\\_0$.\n",
        "  * **Sampling Distribution:** The probability distribution of a statistic obtained from a large number of samples drawn from a specific population. It tells us what values of the test statistic are likely to occur if $H\\_0$ is true.\n",
        "\n",
        "**Common Test Statistics (for means, introduced here):**\n",
        "\n",
        "  * **Z-statistic:** Used when the population standard deviation ($\\\\sigma$) is *known*, or when the sample size is large ($n \\\\ge 30$) due to the Central Limit Theorem.\n",
        "\n",
        "      * $Z = \\\\frac{\\\\bar{x} - \\\\mu\\_0}{\\\\sigma / \\\\sqrt{n}}$\n",
        "          * $\\\\bar{x}$: Sample mean\n",
        "          * $\\\\mu\\_0$: Hypothesized population mean (from $H\\_0$)\n",
        "          * $\\\\sigma$: Population standard deviation\n",
        "          * $n$: Sample size\n",
        "      * Follows a **Standard Normal Distribution** ($N(0, 1)$).\n",
        "\n",
        "  * **t-statistic:** Used when the population standard deviation ($\\\\sigma$) is *unknown* and must be estimated from the sample data using the sample standard deviation ($s$).\n",
        "\n",
        "      * $t = \\\\frac{\\\\bar{x} - \\\\mu\\_0}{s / \\\\sqrt{n}}$\n",
        "          * $s$: Sample standard deviation\n",
        "      * Follows a **t-distribution** with $n-1$ degrees of freedom (df). The t-distribution is similar to the normal distribution but has fatter tails, especially for smaller degrees of freedom, accounting for the added uncertainty of estimating $\\\\sigma$. As df increases, the t-distribution approaches the normal distribution.\n",
        "\n",
        "-----\n",
        "\n",
        "#### **6.4.5 Understanding the p-value**\n",
        "\n",
        "The p-value is perhaps the most misunderstood concept in introductory statistics.\n",
        "\n",
        "  * **Definition (Revisited):** The p-value is the probability of observing sample results as extreme as, or more extreme than, what was observed, *assuming the null hypothesis ($H\\_0$) is true*.\n",
        "  * **Interpretation:**\n",
        "      * **Small p-value ($\\\\le \\\\alpha$):** The observed data is *unlikely* to occur if $H\\_0$ were true. This provides strong evidence *against* $H\\_0$, leading us to reject $H\\_0$.\n",
        "      * **Large p-value ($\\> \\\\alpha$):** The observed data is *likely* to occur if $H\\_0$ were true. This means we *do not have enough evidence to reject* $H\\_0$.\n",
        "  * **Crucial Misconceptions to Avoid:**\n",
        "      * A p-value is *not* the probability that the null hypothesis is true.\n",
        "      * A p-value is *not* the probability that the alternative hypothesis is false.\n",
        "      * \"Failing to reject $H\\_0$\" is not the same as \"accepting $H\\_0$\". We simply don't have enough evidence to overturn the status quo.\n"
      ],
      "metadata": {
        "id": "_TSmCJUh_470"
      }
    },
    {
      "cell_type": "code",
      "source": [
        "import numpy as np\n",
        "import pandas as pd\n",
        "from scipy import stats # General import for statistical functions\n",
        "import matplotlib.pyplot as plt\n",
        "import seaborn as sns\n",
        "\n",
        "sns.set_style(\"whitegrid\")\n",
        "plt.rcParams['figure.figsize'] = (10, 6)\n"
      ],
      "metadata": {
        "id": "9nq0SaBe-4Y4"
      },
      "execution_count": 15,
      "outputs": []
    },
    {
      "cell_type": "markdown",
      "source": [
        "**Example 1: One-Sample Z-Test (Population Standard Deviation Known/Large Sample)**\n",
        "\n",
        "**Scenario:** A factory produces light bulbs. The average lifespan of these bulbs is known to be 5000 hours with a standard deviation ($\\\\sigma$) of 200 hours. A new manufacturing process is implemented. A sample of 40 bulbs from the new process has an average lifespan ($\\\\bar{x}$) of 5050 hours. Is there evidence, at $\\\\alpha = 0.05$, that the new process significantly increases the lifespan of the bulbs?\n",
        "\n",
        "1.  **Formulate Hypotheses:**\n",
        "\n",
        "      * $H\\_0: \\\\mu \\\\le 5000$ (The new process does not increase lifespan, or it decreases it)\n",
        "      * $H\\_1: \\\\mu \\> 5000$ (The new process significantly increases lifespan) - This is a **right-tailed test**.\n",
        "\n",
        "2.  **Choose Significance Level:** $\\\\alpha = 0.05$\n",
        "\n",
        "3.  **Identify Given Data:**\n",
        "\n",
        "      * Population mean ($\\\\mu\\_0$) = 5000\n",
        "      * Population standard deviation ($\\\\sigma$) = 200\n",
        "      * Sample mean ($\\\\bar{x}$) = 5050\n",
        "      * Sample size ($n$) = 40\n"
      ],
      "metadata": {
        "id": "2kK_5fQsAY9V"
      }
    },
    {
      "cell_type": "code",
      "source": [
        "# Given data for Z-test\n",
        "pop_mean_H0 = 5000\n",
        "pop_std = 200\n",
        "sample_mean = 5050\n",
        "sample_size = 40\n",
        "alpha = 0.05\n",
        "\n",
        "# 3. Calculate the Z-statistic\n",
        "# Z = (sample_mean - pop_mean_H0) / (pop_std / sqrt(sample_size))\n",
        "z_statistic = (sample_mean - pop_mean_H0) / (pop_std / np.sqrt(sample_size))\n",
        "print(f\"Calculated Z-statistic: {z_statistic:.4f}\")\n",
        "\n",
        "# 4. Determine the p-value\n",
        "# For a right-tailed test, p-value = P(Z > z_statistic)\n",
        "# In scipy.stats.norm, `sf` (survival function) is 1 - CDF, which gives P(X > x)\n",
        "p_value_z_test = stats.norm.sf(z_statistic)\n",
        "print(f\"P-value for Z-test (right-tailed): {p_value_z_test:.4f}\")\n",
        "\n",
        "# 5. Make a Decision\n",
        "print(f\"\\nDecision:\")\n",
        "if p_value_z_test <= alpha:\n",
        "    print(f\"Since p-value ({p_value_z_test:.4f}) <= alpha ({alpha}), we REJECT the null hypothesis.\")\n",
        "else:\n",
        "    print(f\"Since p-value ({p_value_z_test:.4f}) > alpha ({alpha}), we FAIL TO REJECT the null hypothesis.\")\n",
        "\n",
        "# 6. State the Conclusion\n",
        "if p_value_z_test <= alpha:\n",
        "    print(\"Conclusion: There is statistically significant evidence at the 0.05 level to suggest that the new manufacturing process significantly increases the lifespan of the light bulbs.\")\n",
        "else:\n",
        "    print(\"Conclusion: There is not enough statistically significant evidence at the 0.05 level to conclude that the new manufacturing process significantly increases the lifespan of the light bulbs.\")\n",
        "\n",
        "# Visualize the Z-distribution and p-value\n",
        "x = np.linspace(-3, 3, 500)\n",
        "pdf = stats.norm.pdf(x)\n",
        "\n",
        "plt.figure(figsize=(10, 6))\n",
        "plt.plot(x, pdf, color='blue', label='Standard Normal Distribution')\n",
        "plt.fill_between(x[x >= z_statistic], 0, pdf[x >= z_statistic], color='red', alpha=0.5, label='p-value area')\n",
        "plt.axvline(z_statistic, color='red', linestyle='--', label=f'Z-statistic = {z_statistic:.2f}')\n",
        "plt.axvline(stats.norm.ppf(1 - alpha), color='green', linestyle=':', label=f'Critical Z-value (α={alpha}) = {stats.norm.ppf(1 - alpha):.2f}')\n",
        "plt.title('One-Sample Z-Test for Mean (Right-Tailed)')\n",
        "plt.xlabel('Z-score')\n",
        "plt.ylabel('Probability Density')\n",
        "plt.legend()\n",
        "plt.show()"
      ],
      "metadata": {
        "colab": {
          "base_uri": "https://localhost:8080/",
          "height": 694
        },
        "id": "Sgz9SXMDAUAA",
        "outputId": "c229680b-4218-416e-ffac-4d2fb6ec02a2"
      },
      "execution_count": 16,
      "outputs": [
        {
          "output_type": "stream",
          "name": "stdout",
          "text": [
            "Calculated Z-statistic: 1.5811\n",
            "P-value for Z-test (right-tailed): 0.0569\n",
            "\n",
            "Decision:\n",
            "Since p-value (0.0569) > alpha (0.05), we FAIL TO REJECT the null hypothesis.\n",
            "Conclusion: There is not enough statistically significant evidence at the 0.05 level to conclude that the new manufacturing process significantly increases the lifespan of the light bulbs.\n"
          ]
        },
        {
          "output_type": "display_data",
          "data": {
            "text/plain": [
              "<Figure size 1000x600 with 1 Axes>"
            ],
            "image/png": "[encoded data removed]"
          },
          "metadata": {}
        }
      ]
    },
    {
      "cell_type": "markdown",
      "source": [
        "**Example 2: One-Sample t-Test (Population Standard Deviation Unknown)**\n",
        "\n",
        "**Scenario:** A coffee shop claims their average wait time for an order is 3 minutes. A customer believes it's longer. They record the wait times for 25 random orders:\n",
        "`[3.2, 3.5, 3.1, 3.0, 3.8, 2.9, 3.4, 3.7, 3.3, 3.6, 3.0, 3.9, 3.1, 3.2, 3.5, 3.4, 3.0, 3.6, 3.3, 3.7, 3.2, 3.4, 3.1, 3.5, 3.3]`\n",
        "At $\\\\alpha = 0.01$, is there evidence to support the customer's claim that the average wait time is longer than 3 minutes?\n",
        "\n",
        "1.  **Formulate Hypotheses:**\n",
        "\n",
        "      * $H\\_0: \\\\mu \\\\le 3$ minutes (Average wait time is 3 minutes or less)\n",
        "      * $H\\_1: \\\\mu \\> 3$ minutes (Average wait time is greater than 3 minutes) - This is a **right-tailed test**.\n",
        "\n",
        "2.  **Choose Significance Level:** $\\\\alpha = 0.01$\n",
        "\n",
        "3.  **Identify Given Data & Calculate Sample Statistics:**\n",
        "\n",
        "      * Hypothesized population mean ($\\\\mu\\_0$) = 3\n",
        "      * Sample data: provided list\n",
        "      * Sample size ($n$)\n",
        "      * Sample mean ($\\\\bar{x}$)\n",
        "      * Sample standard deviation ($s$)\n"
      ],
      "metadata": {
        "id": "CllI3MUfAibd"
      }
    },
    {
      "cell_type": "code",
      "source": [
        "# Sample data for t-test\n",
        "wait_times = np.array([3.2, 3.5, 3.1, 3.0, 3.8, 2.9, 3.4, 3.7, 3.3, 3.6,\n",
        "                       3.0, 3.9, 3.1, 3.2, 3.5, 3.4, 3.0, 3.6, 3.3, 3.7,\n",
        "                       3.2, 3.4, 3.1, 3.5, 3.3])\n",
        "\n",
        "pop_mean_H0_t = 3\n",
        "alpha_t = 0.01\n",
        "\n",
        "sample_size_t = len(wait_times)\n",
        "sample_mean_t = np.mean(wait_times)\n",
        "sample_std_t = np.std(wait_times, ddof=1) # ddof=1 for sample standard deviation\n",
        "\n",
        "print(f\"Sample Mean: {sample_mean_t:.4f}\")\n",
        "print(f\"Sample Standard Deviation: {sample_std_t:.4f}\")\n",
        "print(f\"Sample Size: {sample_size_t}\")\n",
        "\n",
        "# 3. Calculate the t-statistic\n",
        "# t = (sample_mean - pop_mean_H0) / (sample_std / sqrt(sample_size))\n",
        "t_statistic = (sample_mean_t - pop_mean_H0_t) / (sample_std_t / np.sqrt(sample_size_t))\n",
        "print(f\"\\nCalculated t-statistic: {t_statistic:.4f}\")\n",
        "\n",
        "# Degrees of freedom for t-test\n",
        "df = sample_size_t - 1\n",
        "print(f\"Degrees of Freedom: {df}\")\n",
        "\n",
        "# 4. Determine the p-value\n",
        "# For a right-tailed test, p-value = P(t > t_statistic)\n",
        "p_value_t_test = stats.t.sf(t_statistic, df)\n",
        "print(f\"P-value for t-test (right-tailed): {p_value_t_test:.4f}\")\n",
        "\n",
        "# 5. Make a Decision\n",
        "print(f\"\\nDecision:\")\n",
        "if p_value_t_test <= alpha_t:\n",
        "    print(f\"Since p-value ({p_value_t_test:.4f}) <= alpha ({alpha_t}), we REJECT the null hypothesis.\")\n",
        "else:\n",
        "    print(f\"Since p-value ({p_value_t_test:.4f}) > alpha ({alpha_t}), we FAIL TO REJECT the null hypothesis.\")\n",
        "\n",
        "# 6. State the Conclusion\n",
        "if p_value_t_test <= alpha_t:\n",
        "    print(\"Conclusion: There is statistically significant evidence at the 0.01 level to support the customer's claim that the average wait time is longer than 3 minutes.\")\n",
        "else:\n",
        "    print(\"Conclusion: There is not enough statistically significant evidence at the 0.01 level to support the customer's claim that the average wait time is longer than 3 minutes.\")\n",
        "\n",
        "# Using scipy.stats.ttest_1samp (more direct method for one-sample t-test)\n",
        "# The output is (t-statistic, two-tailed p-value)\n",
        "t_stat_scipy, p_val_scipy_two_tailed = stats.ttest_1samp(wait_times, pop_mean_H0_t)\n",
        "print(f\"\\n--- Using scipy.stats.ttest_1samp (for verification) ---\")\n",
        "print(f\"Scipy t-statistic: {t_stat_scipy:.4f}\")\n",
        "# For a one-tailed test from a two-tailed p-value:\n",
        "# If t_statistic > 0 (as in our case), p-value_one_tailed = p_value_two_tailed / 2\n",
        "p_value_scipy_one_tailed = p_val_scipy_two_tailed / 2\n",
        "print(f\"Scipy one-tailed p-value: {p_value_scipy_one_tailed:.4f}\")"
      ],
      "metadata": {
        "colab": {
          "base_uri": "https://localhost:8080/"
        },
        "id": "o-sD6iHfAeRu",
        "outputId": "ed7b7cd9-5c02-4715-9de2-769997104bef"
      },
      "execution_count": 17,
      "outputs": [
        {
          "output_type": "stream",
          "name": "stdout",
          "text": [
            "Sample Mean: 3.3480\n",
            "Sample Standard Deviation: 0.2725\n",
            "Sample Size: 25\n",
            "\n",
            "Calculated t-statistic: 6.3849\n",
            "Degrees of Freedom: 24\n",
            "P-value for t-test (right-tailed): 0.0000\n",
            "\n",
            "Decision:\n",
            "Since p-value (0.0000) <= alpha (0.01), we REJECT the null hypothesis.\n",
            "Conclusion: There is statistically significant evidence at the 0.01 level to support the customer's claim that the average wait time is longer than 3 minutes.\n",
            "\n",
            "--- Using scipy.stats.ttest_1samp (for verification) ---\n",
            "Scipy t-statistic: 6.3849\n",
            "Scipy one-tailed p-value: 0.0000\n"
          ]
        }
      ]
    },
    {
      "cell_type": "markdown",
      "source": [
        "-----\n",
        "\n",
        "#### **Exercises & Practice (for Colab)**\n",
        "\n",
        "**Exercise 6.4.1: Product Weight Consistency (One-Sample Z-Test)**\n",
        "\n",
        "A cereal company claims that each box of cereal weighs an average of 350 grams. The historical standard deviation of weights is known to be 10 grams. A quality control manager samples 50 boxes and finds their average weight is 347 grams.\n",
        "\n",
        "At a 95% confidence level (i.e., $\\\\alpha = 0.05$), does this sample provide enough evidence to conclude that the average weight of the cereal boxes is significantly *less* than 350 grams?\n",
        "\n",
        "1.  Formulate $H\\_0$ and $H\\_1$.\n",
        "2.  Identify population mean, population standard deviation, sample mean, sample size, and $\\\\alpha$.\n",
        "3.  Calculate the Z-statistic.\n",
        "4.  Determine the p-value. (Hint: This is a left-tailed test: $P(Z \\< z\\_{statistic})$).\n",
        "5.  Make a decision and state your conclusion.\n",
        "-----\n",
        "\n",
        "**Advanced Challenge 6.4.2: New Drug Efficacy (One-Sample t-Test)**\n",
        "\n",
        "A pharmaceutical company is testing a new drug for reducing blood pressure. The standard blood pressure for patients with a certain condition is known to be 140 mmHg. They administer the new drug to a sample of 15 patients, and their blood pressure readings after treatment are:\n",
        "`[135, 128, 142, 130, 138, 125, 145, 133, 139, 129, 137, 131, 140, 134, 136]`\n",
        "\n",
        "At a 99% confidence level (i.e., $\\\\alpha = 0.01$), is there statistically significant evidence that the new drug *changes* (either increases or decreases) the blood pressure from 140 mmHg?\n",
        "\n",
        "1.  Formulate $H\\_0$ and $H\\_1$.\n",
        "2.  Calculate sample mean, sample standard deviation, and sample size.\n",
        "3.  Calculate the t-statistic.\n",
        "4.  Determine the p-value. (Hint: This is a **two-tailed test**: $P(|t| \\> |t\\_{statistic}|)$).\n",
        "5.  Make a decision and state your conclusion.\n"
      ],
      "metadata": {
        "id": "1A2TDeX0AsSI"
      }
    },
    {
      "cell_type": "markdown",
      "source": [
        "## 6.5 Confidence Intervals, Sampling"
      ],
      "metadata": {
        "id": "kn52pTf5BXVL"
      }
    },
    {
      "cell_type": "markdown",
      "source": [
        "#### **6.5.1 Population vs. Sample**\n",
        "\n",
        "  * **Population:** The entire group of individuals or objects that you are interested in studying or drawing conclusions about. It's the complete set of all possible observations of a characteristic.\n",
        "\n",
        "      * *Examples:* All registered voters in a country, all customers of a specific e-commerce website, all trees in a forest.\n",
        "      * **Parameter:** A numerical measure that describes a characteristic of the *population*. Parameters are typically unknown and are estimated from sample data. (e.g., population mean $\\\\mu$, population standard deviation $\\\\sigma$, population proportion $p$).\n",
        "\n",
        "  * **Sample:** A subset or a smaller, manageable group selected from the population. Data is collected from the sample to make inferences about the larger population.\n",
        "\n",
        "      * *Examples:* 1,000 randomly selected registered voters, a group of 500 customers surveyed, 100 trees measured from specific plots in the forest.\n",
        "      * **Statistic:** A numerical measure that describes a characteristic of the *sample*. Statistics are calculated from sample data and are used to estimate population parameters. (e.g., sample mean $\\\\bar{x}$, sample standard deviation $s$, sample proportion $\\\\hat{p}$).\n",
        "\n",
        "**Why Sample?**\n",
        "\n",
        "  * **Feasibility:** Often, the population is too large or infinite to study completely.\n",
        "  * **Cost-effectiveness:** Collecting data from a sample is usually much cheaper and less resource-intensive.\n",
        "  * **Time-efficiency:** Analyzing a sample is faster than analyzing an entire population.\n",
        "  * **Destructive Testing:** In some cases (e.g., quality control where testing destroys the item), sampling is essential.\n",
        "\n",
        "-----\n",
        "\n",
        "#### **6.5.2 Sampling Methods**\n",
        "\n",
        "The way a sample is selected significantly impacts its representativeness and the validity of inferences. Sampling methods are broadly categorized into Probability and Non-Probability sampling.\n",
        "\n",
        "**A. Probability Sampling Methods:**\n",
        "In these methods, every element in the population has a known, non-zero chance of being selected. This allows for statistical inference and generalization to the population, as sampling error can be quantified.\n",
        "\n",
        "1.  **Simple Random Sampling (SRS):**\n",
        "\n",
        "      * Every member of the population has an equal chance of being selected.\n",
        "      * *How:* Random number generators, drawing names from a hat.\n",
        "      * *Pros:* Unbiased, results can be generalized.\n",
        "      * *Cons:* Can be difficult and costly for large populations, may not ensure representation of subgroups.\n",
        "\n",
        "2.  **Systematic Sampling:**\n",
        "\n",
        "      * Selects individuals at regular intervals from a list after a random starting point.\n",
        "      * *How:* If you need a sample of size 'n' from a population of size 'N', select every $k^{th}$ individual where $k = N/n$, starting from a randomly chosen point between 1 and $k$.\n",
        "      * *Pros:* Easier to implement than SRS, often provides good coverage.\n",
        "      * *Cons:* Can be biased if there's a periodic pattern in the list that aligns with the sampling interval.\n",
        "\n",
        "3.  **Stratified Sampling:**\n",
        "\n",
        "      * The population is divided into homogeneous subgroups (strata) based on shared characteristics (e.g., age groups, gender, income levels). Then, simple random samples are drawn from *each* stratum.\n",
        "      * *How:* Proportionate stratification (sample size from each stratum is proportional to its size in the population) or Disproportionate stratification (used when certain strata are small but important).\n",
        "      * *Pros:* Ensures representation of all important subgroups, allows for more precise estimates (reduced sampling error) if strata are truly homogeneous.\n",
        "      * *Cons:* Requires prior knowledge of population characteristics for stratification, complex to implement.\n",
        "\n",
        "4.  **Cluster Sampling:**\n",
        "\n",
        "      * The population is divided into heterogeneous clusters (e.g., geographical areas, schools). A random sample of clusters is selected, and *all* individuals within the selected clusters are then surveyed (single-stage) or a random sample is taken from within the selected clusters (two-stage).\n",
        "      * *Pros:* Cost-effective and practical for geographically dispersed populations.\n",
        "      * *Cons:* Less precise than SRS or stratified sampling if clusters are not truly representative of the population, increased sampling error.\n",
        "\n",
        "**B. Non-Probability Sampling Methods:**\n",
        "In these methods, the selection of elements is not based on random chance. This means some members of the population have no chance of selection, and the probability of selection is unknown. These methods are often used for qualitative research, exploratory studies, or when probability sampling is impractical. However, results cannot be generalized to the population with statistical confidence.\n",
        "\n",
        "1.  **Convenience Sampling:**\n",
        "\n",
        "      * Selecting individuals who are most easily accessible to the researcher.\n",
        "      * *Pros:* Quick, easy, inexpensive.\n",
        "      * *Cons:* Highly prone to bias, results are rarely generalizable.\n",
        "\n",
        "2.  **Quota Sampling:**\n",
        "\n",
        "      * Similar to stratified sampling, but selection within strata is non-random (e.g., convenience or judgment). The researcher sets quotas for each subgroup to ensure representation based on certain characteristics.\n",
        "      * *Pros:* Ensures representation of certain characteristics, faster and cheaper than stratified sampling.\n",
        "      * *Cons:* Still prone to selection bias within quotas.\n",
        "\n",
        "3.  **Purposive (Judgmental) Sampling:**\n",
        "\n",
        "      * The researcher uses their expertise and judgment to select individuals who they believe are most relevant or representative of the population for the study's purpose.\n",
        "      * *Pros:* Useful for specific, hard-to-reach populations, or when expert opinion is needed.\n",
        "      * *Cons:* Highly subjective, prone to researcher bias, difficult to generalize.\n",
        "\n",
        "4.  **Snowball Sampling:**\n",
        "\n",
        "      * Participants recruit other potential participants from their network. Useful for hard-to-reach or hidden populations.\n",
        "      * *Pros:* Effective for rare populations.\n",
        "      * *Cons:* High risk of sampling bias, limited generalizability as participants are not independent.\n",
        "\n",
        "-----\n",
        "\n",
        "#### **6.5.3 Confidence Intervals**\n",
        "\n",
        "A **confidence interval (CI)** is a range of values, derived from sample data, that is likely to contain the true population parameter with a certain level of confidence.\n",
        "\n",
        "  * **Point Estimate:** A single value calculated from a sample to estimate a population parameter (e.g., sample mean $\\\\bar{x}$ as an estimate for population mean $\\\\mu$).\n",
        "  * **Interval Estimate (Confidence Interval):** Provides a range of values within which the population parameter is expected to lie. It quantifies the uncertainty around the point estimate.\n",
        "  * **Confidence Level (C):** The probability that a randomly constructed confidence interval will contain the true population parameter. Commonly used levels are 90%, 95%, or 99%.\n",
        "      * A 95% confidence interval means that if you were to take many samples and construct a 95% CI for each sample, approximately 95% of those intervals would contain the true population parameter.\n",
        "      * It is **NOT** the probability that the true parameter falls within *this specific* interval. The true parameter is a fixed value, either it's in the interval or it isn't.\n",
        "\n",
        "**General Formula for a Confidence Interval:**\n",
        "\n",
        "Point Estimate $\\\\pm$ Margin of Error\n",
        "\n",
        "Where:\n",
        "Margin of Error = Critical Value $\\\\times$ Standard Error of the Statistic\n",
        "\n",
        "  * **Critical Value:** A value from the appropriate sampling distribution (Z or t) that corresponds to the chosen confidence level. It defines the boundaries of the interval.\n",
        "  * **Standard Error:** The standard deviation of the sampling distribution of the statistic (e.g., standard error of the mean: $\\\\sigma/\\\\sqrt{n}$ or $s/\\\\sqrt{n}$). It measures the typical amount of error (variability) expected when estimating a population parameter from a sample.\n",
        "\n",
        "-----\n",
        "\n",
        "#### **6.5.4 Confidence Interval for a Population Mean ($\\\\mu$)**\n",
        "\n",
        "**A. When Population Standard Deviation ($\\\\sigma$) is Known (Z-Interval):**\n",
        "This scenario is less common in practice but useful for understanding the concept.\n",
        "\n",
        "Formula: $\\\\bar{x} \\\\pm Z\\_{\\\\alpha/2} \\\\cdot \\\\frac{\\\\sigma}{\\\\sqrt{n}}$\n",
        "\n",
        "Where:\n",
        "\n",
        "  * $\\\\bar{x}$: Sample mean\n",
        "  * $Z\\_{\\\\alpha/2}$: Z-score corresponding to the desired confidence level (e.g., for 95% CI, $\\\\alpha = 0.05$, so $\\\\alpha/2 = 0.025$. $Z\\_{0.025} = 1.96$).\n",
        "  * $\\\\sigma$: Population standard deviation (known)\n",
        "  * $n$: Sample size\n",
        "\n",
        "**B. When Population Standard Deviation ($\\\\sigma$) is Unknown (t-Interval):**\n",
        "This is the most common scenario. We use the sample standard deviation ($s$) as an estimate for $\\\\sigma$.\n",
        "\n",
        "Formula: $\\\\bar{x} \\\\pm t\\_{\\\\alpha/2, n-1} \\\\cdot \\\\frac{s}{\\\\sqrt{n}}$\n",
        "\n",
        "Where:\n",
        "\n",
        "  * $\\\\bar{x}$: Sample mean\n",
        "  * $t\\_{\\\\alpha/2, n-1}$: t-score corresponding to the desired confidence level and $n-1$ degrees of freedom.\n",
        "  * $s$: Sample standard deviation\n",
        "  * $n$: Sample size\n",
        "\n",
        "-----\n",
        "\n",
        "#### **6.5.5 Confidence Interval for a Population Proportion ($p$)**\n",
        "\n",
        "Used when estimating the proportion (percentage) of a population that has a certain characteristic (e.g., proportion of customers who click an ad, proportion of defective items).\n",
        "\n",
        "Formula: $\\\\hat{p} \\\\pm Z\\_{\\\\alpha/2} \\\\cdot \\\\sqrt{\\\\frac{\\\\hat{p}(1-\\\\hat{p})}{n}}$\n",
        "\n",
        "Where:\n",
        "\n",
        "  * $\\\\hat{p}$: Sample proportion (number of successes / sample size)\n",
        "  * $Z\\_{\\\\alpha/2}$: Z-score corresponding to the desired confidence level.\n",
        "  * $n$: Sample size\n",
        "\n",
        "**Assumptions for Proportions:** The sample size must be large enough to ensure the sampling distribution of $\\\\hat{p}$ is approximately normal. A common rule of thumb is that both $n \\\\cdot \\\\hat{p} \\\\ge 5$ (or 10) and $n \\\\cdot (1-\\\\hat{p}) \\\\ge 5$ (or 10).\n",
        "\n",
        "-----\n",
        "\n",
        "#### **6.5.6 Factors Affecting Confidence Interval Width**\n",
        "\n",
        "  * **Confidence Level:** Higher confidence levels (e.g., 99% vs. 95%) lead to wider intervals because you need to capture the true parameter more often.\n",
        "  * **Sample Size ($n$):** Larger sample sizes lead to narrower intervals because more data reduces the uncertainty in the estimate (standard error decreases as $\\\\sqrt{n}$ increases).\n",
        "  * **Variability (Standard Deviation, $\\\\sigma$ or $s$):** More variability in the population (larger $\\\\sigma$ or $s$) leads to wider intervals because there's more inherent spread in the data.\n",
        "\n"
      ],
      "metadata": {
        "id": "8WHaPJeDB3Pn"
      }
    },
    {
      "cell_type": "code",
      "source": [
        "import numpy as np\n",
        "import pandas as pd\n",
        "from scipy import stats # General import for statistical functions\n",
        "import matplotlib.pyplot as plt\n",
        "import seaborn as sns\n",
        "\n",
        "sns.set_style(\"whitegrid\")\n",
        "plt.rcParams['figure.figsize'] = (10, 6)"
      ],
      "metadata": {
        "id": "fXMn53_NAnX3"
      },
      "execution_count": 18,
      "outputs": []
    },
    {
      "cell_type": "markdown",
      "source": [
        "**A. Confidence Interval for Mean (Population Standard Deviation KNOWN - Z-Interval)**\n",
        "\n",
        "**Scenario:** A survey of 100 random customers shows that they spend an average of $85 on their last visit. If the population standard deviation of spending is known to be $15, construct a 95% confidence interval for the true average spending of all customers."
      ],
      "metadata": {
        "id": "hdcXL_sXCBwj"
      }
    },
    {
      "cell_type": "code",
      "source": [
        "# Given data\n",
        "sample_mean_z = 85\n",
        "pop_std_z = 15\n",
        "sample_size_z = 100\n",
        "conf_level_z = 0.95 # 95% confidence\n",
        "\n",
        "# Calculate the critical Z-value for 95% confidence\n",
        "# For a two-tailed interval, alpha is split into two tails (alpha/2)\n",
        "# The percentile for Z_alpha/2 is 1 - alpha/2\n",
        "alpha_z = 1 - conf_level_z\n",
        "z_critical = stats.norm.ppf(1 - alpha_z/2) # PPF is the inverse of CDF\n",
        "\n",
        "print(f\"Sample Mean: ${sample_mean_z:.2f}\")\n",
        "print(f\"Population Std Dev: ${pop_std_z:.2f}\")\n",
        "print(f\"Sample Size: {sample_size_z}\")\n",
        "print(f\"Confidence Level: {conf_level_z*100}%\")\n",
        "print(f\"Critical Z-value: {z_critical:.4f}\")\n",
        "\n",
        "# Calculate Margin of Error\n",
        "# ME = Z_critical * (pop_std / sqrt(n))\n",
        "margin_of_error_z = z_critical * (pop_std_z / np.sqrt(sample_size_z))\n",
        "print(f\"Margin of Error: ${margin_of_error_z:.4f}\")\n",
        "\n",
        "# Calculate Confidence Interval\n",
        "lower_bound_z = sample_mean_z - margin_of_error_z\n",
        "upper_bound_z = sample_mean_z + margin_of_error_z\n",
        "\n",
        "print(f\"\\n95% Confidence Interval for Mean Spending: (${lower_bound_z:.2f}, ${upper_bound_z:.2f})\")\n",
        "\n",
        "# Interpretation\n",
        "print(\"\\nInterpretation: We are 95% confident that the true average spending of all customers lies between $\",\n",
        "      f\"{lower_bound_z:.2f} and ${upper_bound_z:.2f}.\")"
      ],
      "metadata": {
        "colab": {
          "base_uri": "https://localhost:8080/"
        },
        "id": "91qAUzTAB_QV",
        "outputId": "a75e2de6-b743-4c80-d192-52a519b7dcb9"
      },
      "execution_count": 19,
      "outputs": [
        {
          "output_type": "stream",
          "name": "stdout",
          "text": [
            "Sample Mean: $85.00\n",
            "Population Std Dev: $15.00\n",
            "Sample Size: 100\n",
            "Confidence Level: 95.0%\n",
            "Critical Z-value: 1.9600\n",
            "Margin of Error: $2.9399\n",
            "\n",
            "95% Confidence Interval for Mean Spending: ($82.06, $87.94)\n",
            "\n",
            "Interpretation: We are 95% confident that the true average spending of all customers lies between $ 82.06 and $87.94.\n"
          ]
        }
      ]
    },
    {
      "cell_type": "markdown",
      "source": [
        "**B. Confidence Interval for Mean (Population Standard Deviation UNKNOWN - t-Interval)**\n",
        "\n",
        "**Scenario:** A market researcher collects data on the daily time (in minutes) 20 random users spend on a new app:\n",
        "`[45, 52, 38, 60, 41, 55, 48, 62, 35, 50, 43, 58, 40, 53, 47, 59, 39, 51, 46, 54]`\n",
        "Construct a 90% confidence interval for the true average daily time users spend on the app."
      ],
      "metadata": {
        "id": "6D-v01-zCIh-"
      }
    },
    {
      "cell_type": "code",
      "source": [
        "# Sample data\n",
        "app_times = np.array([45, 52, 38, 60, 41, 55, 48, 62, 35, 50,\n",
        "                      43, 58, 40, 53, 47, 59, 39, 51, 46, 54])\n",
        "conf_level_t = 0.90 # 90% confidence\n",
        "\n",
        "# Calculate sample statistics\n",
        "sample_size_t = len(app_times)\n",
        "sample_mean_t = np.mean(app_times)\n",
        "sample_std_t = np.std(app_times, ddof=1) # ddof=1 for sample standard deviation\n",
        "degrees_of_freedom_t = sample_size_t - 1\n",
        "\n",
        "print(f\"Sample Mean Time: {sample_mean_t:.2f} minutes\")\n",
        "print(f\"Sample Std Dev: {sample_std_t:.2f} minutes\")\n",
        "print(f\"Sample Size: {sample_size_t}\")\n",
        "print(f\"Degrees of Freedom: {degrees_of_freedom_t}\")\n",
        "print(f\"Confidence Level: {conf_level_t*100}%\")\n",
        "\n",
        "# Calculate the critical t-value for 90% confidence\n",
        "alpha_t = 1 - conf_level_t\n",
        "t_critical = stats.t.ppf(1 - alpha_t/2, degrees_of_freedom_t)\n",
        "\n",
        "print(f\"Critical t-value: {t_critical:.4f}\")\n",
        "\n",
        "# Calculate Margin of Error\n",
        "# ME = t_critical * (sample_std / sqrt(n))\n",
        "margin_of_error_t = t_critical * (sample_std_t / np.sqrt(sample_size_t))\n",
        "print(f\"Margin of Error: {margin_of_error_t:.4f} minutes\")\n",
        "\n",
        "# Calculate Confidence Interval\n",
        "lower_bound_t = sample_mean_t - margin_of_error_t\n",
        "upper_bound_t = sample_mean_t + margin_of_error_t\n",
        "\n",
        "print(f\"\\n90% Confidence Interval for Mean App Time: ({lower_bound_t:.2f}, {upper_bound_t:.2f}) minutes\")\n",
        "\n",
        "# Using scipy.stats.t.interval (more direct method)\n",
        "# This function directly calculates the CI for a mean.\n",
        "ci_direct = stats.t.interval(confidence=conf_level_t,\n",
        "                             df=degrees_of_freedom_t,\n",
        "                             loc=sample_mean_t,       # sample mean\n",
        "                             scale=stats.sem(app_times)) # standard error of the mean\n",
        "\n",
        "print(f\"\\n90% CI using stats.t.interval: ({ci_direct[0]:.2f}, {ci_direct[1]:.2f}) minutes (for verification)\")\n",
        "\n",
        "print(\"\\nInterpretation: We are 90% confident that the true average daily time users spend on the app lies between\",\n",
        "      f\"{lower_bound_t:.2f} and {upper_bound_t:.2f} minutes.\")"
      ],
      "metadata": {
        "colab": {
          "base_uri": "https://localhost:8080/"
        },
        "id": "HKXyHKOKCFXg",
        "outputId": "013d2ea6-d5e5-48be-8592-dc8151b416ee"
      },
      "execution_count": 20,
      "outputs": [
        {
          "output_type": "stream",
          "name": "stdout",
          "text": [
            "Sample Mean Time: 48.80 minutes\n",
            "Sample Std Dev: 7.91 minutes\n",
            "Sample Size: 20\n",
            "Degrees of Freedom: 19\n",
            "Confidence Level: 90.0%\n",
            "Critical t-value: 1.7291\n",
            "Margin of Error: 3.0589 minutes\n",
            "\n",
            "90% Confidence Interval for Mean App Time: (45.74, 51.86) minutes\n",
            "\n",
            "90% CI using stats.t.interval: (45.74, 51.86) minutes (for verification)\n",
            "\n",
            "Interpretation: We are 90% confident that the true average daily time users spend on the app lies between 45.74 and 51.86 minutes.\n"
          ]
        }
      ]
    },
    {
      "cell_type": "markdown",
      "source": [
        "**C. Confidence Interval for a Population Proportion**\n",
        "\n",
        "**Scenario:** In a poll of 500 likely voters, 280 stated they would vote for Candidate A. Construct a 95% confidence interval for the true proportion of all likely voters who support Candidate A."
      ],
      "metadata": {
        "id": "Kqz1IXmWCPQe"
      }
    },
    {
      "cell_type": "code",
      "source": [
        "# Given data\n",
        "n_voters = 500     # Sample size\n",
        "x_successes = 280 # Number of successes (voters for Candidate A)\n",
        "conf_level_prop = 0.95 # 95% confidence\n",
        "\n",
        "# Calculate sample proportion\n",
        "sample_proportion = x_successes / n_voters\n",
        "\n",
        "print(f\"Sample Proportion (p-hat): {sample_proportion:.4f}\")\n",
        "print(f\"Sample Size: {n_voters}\")\n",
        "print(f\"Confidence Level: {conf_level_prop*100}%\")\n",
        "\n",
        "# Check assumptions for Normal approximation\n",
        "n_p_check = n_voters * sample_proportion\n",
        "n_1_minus_p_check = n_voters * (1 - sample_proportion)\n",
        "print(f\"n*p-hat = {n_p_check:.2f}, n*(1-p-hat) = {n_1_minus_p_check:.2f}\")\n",
        "if n_p_check >= 10 and n_1_minus_p_check >= 10:\n",
        "    print(\"Assumptions met for normal approximation of proportion.\")\n",
        "else:\n",
        "    print(\"Warning: Assumptions for normal approximation may not be met. Consider alternative methods or larger sample size.\")\n",
        "\n",
        "# Calculate the critical Z-value for 95% confidence\n",
        "alpha_prop = 1 - conf_level_prop\n",
        "z_critical_prop = stats.norm.ppf(1 - alpha_prop/2)\n",
        "\n",
        "print(f\"Critical Z-value: {z_critical_prop:.4f}\")\n",
        "\n",
        "# Calculate Standard Error of the Proportion\n",
        "# SE_prop = sqrt(p_hat * (1-p_hat) / n)\n",
        "std_error_prop = np.sqrt((sample_proportion * (1 - sample_proportion)) / n_voters)\n",
        "print(f\"Standard Error of Proportion: {std_error_prop:.4f}\")\n",
        "\n",
        "# Calculate Margin of Error\n",
        "# ME = Z_critical * SE_prop\n",
        "margin_of_error_prop = z_critical_prop * std_error_prop\n",
        "print(f\"Margin of Error: {margin_of_error_prop:.4f}\")\n",
        "\n",
        "# Calculate Confidence Interval\n",
        "lower_bound_prop = sample_proportion - margin_of_error_prop\n",
        "upper_bound_prop = sample_proportion + margin_of_error_prop\n",
        "\n",
        "print(f\"\\n95% Confidence Interval for Proportion: ({lower_bound_prop:.4f}, {upper_bound_prop:.4f})\")\n",
        "print(f\"Which is ({lower_bound_prop*100:.2f}%, {upper_bound_prop*100:.2f}%)\")\n",
        "\n",
        "# Using statsmodels for more robust proportion CI (often preferred in practice)\n",
        "import statsmodels.stats.api as sms\n",
        "\n",
        "# Confidence interval for proportion using normal approximation\n",
        "# The result is (lower_bound, upper_bound)\n",
        "ci_prop_sms = sms.proportion_confint(count=x_successes,\n",
        "                                     nobs=n_voters,\n",
        "                                     alpha=alpha_prop, # alpha is 1 - confidence_level\n",
        "                                     method='normal') # 'normal' for Z-approximation\n",
        "\n",
        "print(f\"\\n95% CI using statsmodels.proportion_confint: ({ci_prop_sms[0]:.4f}, {ci_prop_sms[1]:.4f}) (for verification)\")\n",
        "\n",
        "\n",
        "print(\"\\nInterpretation: We are 95% confident that the true proportion of all likely voters who support Candidate A lies between\",\n",
        "      f\"{lower_bound_prop*100:.2f}% and {upper_bound_prop*100:.2f}%.\")"
      ],
      "metadata": {
        "colab": {
          "base_uri": "https://localhost:8080/"
        },
        "id": "Dkh0kBMXCLke",
        "outputId": "2ff18e6a-1612-485b-dbd2-0e7d182c82b4"
      },
      "execution_count": 21,
      "outputs": [
        {
          "output_type": "stream",
          "name": "stdout",
          "text": [
            "Sample Proportion (p-hat): 0.5600\n",
            "Sample Size: 500\n",
            "Confidence Level: 95.0%\n",
            "n*p-hat = 280.00, n*(1-p-hat) = 220.00\n",
            "Assumptions met for normal approximation of proportion.\n",
            "Critical Z-value: 1.9600\n",
            "Standard Error of Proportion: 0.0222\n",
            "Margin of Error: 0.0435\n",
            "\n",
            "95% Confidence Interval for Proportion: (0.5165, 0.6035)\n",
            "Which is (51.65%, 60.35%)\n",
            "\n",
            "95% CI using statsmodels.proportion_confint: (0.5165, 0.6035) (for verification)\n",
            "\n",
            "Interpretation: We are 95% confident that the true proportion of all likely voters who support Candidate A lies between 51.65% and 60.35%.\n"
          ]
        }
      ]
    },
    {
      "cell_type": "markdown",
      "source": [
        "-----\n",
        "\n",
        "#### **Exercises & Practice (for Colab)**\n",
        "\n",
        "**Exercise 6.5.1: Average Customer Age (Confidence Interval for Mean, Unknown $\\\\sigma$)**\n",
        "\n",
        "A small business wants to estimate the average age of its customers. They randomly survey 30 customers and find the following ages:\n",
        "`[28, 35, 42, 29, 38, 45, 31, 25, 33, 40, 36, 30, 27, 34, 41, 32, 26, 39, 43, 37, 44, 29, 31, 35, 30, 28, 33, 40, 36, 32]`\n",
        "\n",
        "Construct a 99% confidence interval for the true average age of all customers.\n",
        "\n",
        "-----\n",
        "\n",
        "**Advanced Challenge 6.5.2: Defective Parts Proportion (Confidence Interval for Proportion & Sample Size Calculation)**\n",
        "\n",
        "A manufacturing company wants to estimate the proportion of defective parts produced on a new assembly line. They randomly inspect 400 parts and find 18 are defective.\n",
        "\n",
        "1.  Construct a 90% confidence interval for the true proportion of defective parts.\n",
        "2.  The company wants to reduce the margin of error to no more than 1.5% (0.015) with 95% confidence. How many parts would they need to inspect to achieve this, assuming their current estimated proportion of defective parts is used for the calculation? (Hint: Rearrange the Margin of Error formula to solve for $n$.)\n"
      ],
      "metadata": {
        "id": "8AmAWKGzCY3p"
      }
    },
    {
      "cell_type": "code",
      "source": [],
      "metadata": {
        "id": "kq1QDfKVCUgB"
      },
      "execution_count": null,
      "outputs": []
    }
  ]
}